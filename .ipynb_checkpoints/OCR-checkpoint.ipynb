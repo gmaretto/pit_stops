{
 "cells": [
  {
   "cell_type": "code",
   "execution_count": 1,
   "metadata": {},
   "outputs": [],
   "source": [
    "try:\n",
    "    import Image\n",
    "except ImportError:\n",
    "    from PIL import Image\n",
    "import pytesseract\n",
    "\n",
    "# If you don't have tesseract executable in your PATH, include the following:\n",
    "#pytesseract.pytesseract.tesseract_cmd = r'<full_path_to_your_tesseract_executable>'\n",
    "# Example tesseract_cmd = r'C:\\Program Files (x86)\\Tesseract-OCR\\tesseract'\n",
    "\n",
    "\n",
    "\n",
    "# French text image to string\n",
    "print(pytesseract.image_to_string(Image.open('test-european.jpg'), lang='fra'))\n",
    "\n",
    "# Get bounding box estimates\n",
    "print(pytesseract.image_to_boxes(Image.open('test.png')))\n",
    "\n",
    "# Get verbose data including boxes, confidences, line and page numbers\n",
    "print(pytesseract.image_to_data(Image.open('test.png')))\n",
    "\n",
    "# Get information about orientation and script detection\n",
    "print(pytesseract.image_to_osd(Image.open('test.png'))\n",
    "\n",
    "# In order to bypass the internal image conversions, just use relative or absolute image path\n",
    "# NOTE: If you don't use supported images, tesseract will return error\n",
    "print(pytesseract.image_to_string('test.png'))"
   ]
  },
  {
   "cell_type": "code",
   "execution_count": 7,
   "metadata": {},
   "outputs": [
    {
     "name": "stdout",
     "output_type": "stream",
     "text": [
      "This is a lot of 12 point text to test the\n",
      "cor code and see if it works on all types\n",
      "of file format.\n",
      "\n",
      "The quick brown dog jumped over the\n",
      "lazy fox. The quick brown dog jumped\n",
      "over the lazy fox. The quick brown dog\n",
      "jumped over the lazy fox. The quick\n",
      "brown dog jumped over the lazy fox.\n"
     ]
    }
   ],
   "source": [
    "# Simple image to string\n",
    "print(pytesseract.image_to_string(Image.open('test.png')))"
   ]
  },
  {
   "cell_type": "code",
   "execution_count": 8,
   "metadata": {},
   "outputs": [
    {
     "name": "stdout",
     "output_type": "stream",
     "text": [
      "/Users/guido/Google_Drive/Galvanize/pit_stops\n"
     ]
    }
   ],
   "source": [
    "cd /Users/guido/Google_Drive/Galvanize/pit_stops/"
   ]
  },
  {
   "cell_type": "code",
   "execution_count": 5,
   "metadata": {},
   "outputs": [
    {
     "name": "stdout",
     "output_type": "stream",
     "text": [
      "/Users/guido/anaconda/lib/python3.6/site-packages\n"
     ]
    }
   ],
   "source": [
    "cd /Users/guido/anaconda/lib/python3.6/site-packages"
   ]
  },
  {
   "cell_type": "code",
   "execution_count": 6,
   "metadata": {},
   "outputs": [
    {
     "name": "stdout",
     "output_type": "stream",
     "text": [
      "/Users/guido/anaconda/lib/python3.6/site-packages/pytesseract\n"
     ]
    }
   ],
   "source": [
    "cd pytesseract/"
   ]
  },
  {
   "cell_type": "code",
   "execution_count": 21,
   "metadata": {},
   "outputs": [
    {
     "name": "stdout",
     "output_type": "stream",
     "text": [
      "MELBOURNE - SELECTED SETS PER DRIVER\n",
      "\n",
      "MEDIUM\n",
      "\n",
      "     \n",
      "\n",
      " \n",
      "\n",
      " \n",
      "\n",
      "#44 HAMILTON 1 —\n",
      "#6 ROSBERG 2 —\n",
      "#5 VETTEL 2 —\n",
      "#7 RAIKKONEN 2 —\n",
      "#77 BOTTAS 1 —\n",
      "#19 MASSA 1 —\n",
      "#3 RICCIARDO 2 —\n",
      "#26 KVYAT 2 —\n",
      "#20 MAGNUSSEN 1 —\n",
      "#3o PALMER 1 —\n",
      "#27 HULKENBERG 2 —\n",
      "#11 PEREZ 2 —\n",
      "#33 VERSTAPPEN 2 —\n",
      "#55 SAINZ 2 —\n",
      "#14 ALONSO 1 —\n",
      "#22 BUTTON 1 —\n",
      "#9 ERICSSON 1 —\n",
      "#12 NASR 2 —\n",
      "#94 WEHRLEIN 4\n",
      "\n",
      "#88 HARYANTO 4\n",
      "\n",
      "#8 GROSJEAN 1 —\n",
      "#21 GUTIERREZ 2 —\n",
      "The F1 FORMULA1|ogo, F1, FORMULA 1, FIA FORMULA ONE WORLD CHAMPIONSHIP, GRAND PRIX Copyright \"ﬂ 2016\n",
      "\n",
      "and related marks are trademarks of Formula One Licensing BV, a Formula One group company. All rights reserved Pirelli & C. S.p.A.\n"
     ]
    }
   ],
   "source": [
    "print(pytesseract.image_to_string(Image.open('tires_600dpi.png')))"
   ]
  },
  {
   "cell_type": "code",
   "execution_count": 11,
   "metadata": {},
   "outputs": [
    {
     "name": "stdout",
     "output_type": "stream",
     "text": [
      "\u001b[34m2016race0\u001b[m\u001b[m/                      race.csv\n",
      "\u001b[34m2016race0 copy\u001b[m\u001b[m/                 \u001b[34mraw_data\u001b[m\u001b[m/\n",
      "README.MD                       scraping.ipynb\n",
      "Untitled.ipynb                  scraping.py\n",
      "data_prep.ipynb                 test.html\n",
      "official_classification_31.pdf  the_problem.pdf\n",
      "pdf2data.ipynb\n"
     ]
    }
   ],
   "source": [
    "ls"
   ]
  },
  {
   "cell_type": "code",
   "execution_count": null,
   "metadata": {},
   "outputs": [],
   "source": []
  }
 ],
 "metadata": {
  "kernelspec": {
   "display_name": "Python 3",
   "language": "python",
   "name": "python3"
  },
  "language_info": {
   "codemirror_mode": {
    "name": "ipython",
    "version": 3
   },
   "file_extension": ".py",
   "mimetype": "text/x-python",
   "name": "python",
   "nbconvert_exporter": "python",
   "pygments_lexer": "ipython3",
   "version": "3.6.5"
  }
 },
 "nbformat": 4,
 "nbformat_minor": 2
}
