{
 "cells": [
  {
   "cell_type": "code",
   "execution_count": 1,
   "metadata": {},
   "outputs": [],
   "source": [
    "import pandas as pd\n",
    "import os\n",
    "import numpy as np\n",
    "import re\n",
    "import datetime"
   ]
  },
  {
   "cell_type": "code",
   "execution_count": 4,
   "metadata": {},
   "outputs": [],
   "source": [
    "ref_df = pd.read_csv('which_race.csv', header=0)\n",
    "csv_list = os.listdir('clean_frames')\n",
    "counter = 34"
   ]
  },
  {
   "cell_type": "code",
   "execution_count": 243,
   "metadata": {},
   "outputs": [],
   "source": [
    "d2 = {}\n",
    "d3 = {}\n",
    "for race_id in range(counter):\n",
    "    d2['race_df_'+str(race_id)]=pd.read_csv('clean_frames/race_df_'+str(race_id)+'.csv')\n",
    "    d3['pit_stop_df_'+str(race_id)]=pd.read_csv('clean_frames/pit_stop_df_'+str(race_id)+'.csv')"
   ]
  },
  {
   "cell_type": "code",
   "execution_count": 244,
   "metadata": {},
   "outputs": [],
   "source": [
    "df=d2['race_df_0']"
   ]
  },
  {
   "cell_type": "code",
   "execution_count": 246,
   "metadata": {},
   "outputs": [],
   "source": [
    "def timify(x):\n",
    "    if re.search('[a-zA-Z]', x):\n",
    "        return True\n",
    "#         print(x)\n",
    "    else: \n",
    "#         return int(x.split(':')[0])*60 + float(x.split(':')[1])\n",
    "        return False"
   ]
  },
  {
   "cell_type": "code",
   "execution_count": 44,
   "metadata": {},
   "outputs": [],
   "source": [
    "# dfone['GAP'][dfone['TIME'].apply(timify)]=#\n",
    "# _mask = dfone['TIME'].apply(timify)#.values[0]#.split(' ')[0:2]\n",
    "# dfone['TIME'][_mask] = '2:11.365'\n",
    "# dfone['GAP'][_mask] = '1 LAP'"
   ]
  },
  {
   "cell_type": "code",
   "execution_count": 248,
   "metadata": {},
   "outputs": [
    {
     "data": {
      "text/html": [
       "<div>\n",
       "<style scoped>\n",
       "    .dataframe tbody tr th:only-of-type {\n",
       "        vertical-align: middle;\n",
       "    }\n",
       "\n",
       "    .dataframe tbody tr th {\n",
       "        vertical-align: top;\n",
       "    }\n",
       "\n",
       "    .dataframe thead th {\n",
       "        text-align: right;\n",
       "    }\n",
       "</style>\n",
       "<table border=\"1\" class=\"dataframe\">\n",
       "  <thead>\n",
       "    <tr style=\"text-align: right;\">\n",
       "      <th></th>\n",
       "      <th>Unnamed: 0</th>\n",
       "      <th>NO</th>\n",
       "      <th>GAP</th>\n",
       "      <th>TIME</th>\n",
       "      <th>LAP</th>\n",
       "      <th>race_id</th>\n",
       "    </tr>\n",
       "  </thead>\n",
       "  <tbody>\n",
       "  </tbody>\n",
       "</table>\n",
       "</div>"
      ],
      "text/plain": [
       "Empty DataFrame\n",
       "Columns: [Unnamed: 0, NO, GAP, TIME, LAP, race_id]\n",
       "Index: []"
      ]
     },
     "execution_count": 248,
     "metadata": {},
     "output_type": "execute_result"
    }
   ],
   "source": [
    "_mask = df['TIME'].apply(timify)#.values[0]#.split(' ')[0:2]\n",
    "df[_mask]"
   ]
  },
  {
   "cell_type": "code",
   "execution_count": 250,
   "metadata": {},
   "outputs": [],
   "source": [
    "df['TIME'] = df['TIME'].apply(lambda x: int(x.split(':')[0])*60 + float(x.split(':')[1]))"
   ]
  },
  {
   "cell_type": "code",
   "execution_count": 251,
   "metadata": {},
   "outputs": [],
   "source": [
    "# d2['race_df_0']['cumtime']=d2['race_df_0'][['TIME','NO']].groupby('NO').cumsum(skipna=True)\n",
    "df['cumtime']=df[['TIME','NO']].groupby('NO').cumsum(skipna=True)"
   ]
  },
  {
   "cell_type": "code",
   "execution_count": 214,
   "metadata": {},
   "outputs": [],
   "source": [
    "# for i in range(1,max(df['LAP'])):"
   ]
  },
  {
   "cell_type": "code",
   "execution_count": 252,
   "metadata": {},
   "outputs": [],
   "source": [
    "def distances(x):\n",
    "    return x.values[:,None]-x.values"
   ]
  },
  {
   "cell_type": "code",
   "execution_count": 293,
   "metadata": {},
   "outputs": [],
   "source": [
    "pita_df = pd.DataFrame(distances(df['TIME'][df['LAP']==1]),columns=list(df['NO'][df['LAP']==1].values),index = df['NO'][df['LAP']==1].values)\n",
    "\n",
    "pita_df['LAP']=1\n",
    "\n",
    "pita_df.reset_index(level=0, inplace=True)\n",
    "\n",
    "pita_df.rename({'index':'NO'},axis='columns',inplace=True)"
   ]
  },
  {
   "cell_type": "code",
   "execution_count": 309,
   "metadata": {},
   "outputs": [],
   "source": [
    "df1 = df.merge(pita_df, on=['LAP','NO'], how=\"outer\")"
   ]
  },
  {
   "cell_type": "code",
   "execution_count": 310,
   "metadata": {},
   "outputs": [],
   "source": [
    "pita_df2 = pd.DataFrame(distances(df['TIME'][df['LAP']==2]),columns=list(df['NO'][df['LAP']==2].values),index = df['NO'][df['LAP']==2].values)\n",
    "\n",
    "pita_df2['LAP'] = 2\n",
    "\n",
    "pita_df2.reset_index(level=0, inplace=True)\n",
    "\n",
    "pita_df2.rename({'index':'NO'},axis='columns',inplace=True)"
   ]
  },
  {
   "cell_type": "code",
   "execution_count": 300,
   "metadata": {},
   "outputs": [],
   "source": [
    "# df1.loc[df1['LAP']==2,pita_df2.columns] = pita_df2.values"
   ]
  },
  {
   "cell_type": "code",
   "execution_count": 304,
   "metadata": {},
   "outputs": [],
   "source": [
    "pita_df2.set_index(['NO','LAP'], inplace=True)\n",
    "df1.set_index(['NO','LAP'], inplace=True)\n",
    "#df2 = df1.merge(pita_df2, on = ['NO','LAP'], how ='outer')"
   ]
  },
  {
   "cell_type": "code",
   "execution_count": 311,
   "metadata": {},
   "outputs": [],
   "source": [
    "df1.update(pita_df2, join='left')#, overwrite=True, filter_func=None, raise_conflict=False)"
   ]
  },
  {
   "cell_type": "code",
   "execution_count": null,
   "metadata": {},
   "outputs": [],
   "source": [
    "# solution must be\n",
    "# 1) computing cumulative time on full df, \n",
    "# 2) create single df's out of which to make the distance \n",
    "# 3) join each pair (one per lap)\n",
    "# 4) concatenate back\n"
   ]
  }
 ],
 "metadata": {
  "kernelspec": {
   "display_name": "Python 3",
   "language": "python",
   "name": "python3"
  },
  "language_info": {
   "codemirror_mode": {
    "name": "ipython",
    "version": 3
   },
   "file_extension": ".py",
   "mimetype": "text/x-python",
   "name": "python",
   "nbconvert_exporter": "python",
   "pygments_lexer": "ipython3",
   "version": "3.6.6"
  }
 },
 "nbformat": 4,
 "nbformat_minor": 2
}
