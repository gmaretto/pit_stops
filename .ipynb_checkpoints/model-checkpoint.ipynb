{
 "cells": [
  {
   "cell_type": "code",
   "execution_count": 1,
   "metadata": {},
   "outputs": [],
   "source": [
    "import pandas as pd\n",
    "import os\n",
    "import numpy as np\n",
    "import re\n",
    "import datetime\n",
    "from itertools import compress"
   ]
  },
  {
   "cell_type": "code",
   "execution_count": 2,
   "metadata": {},
   "outputs": [],
   "source": [
    "full_df = pd.read_csv('full_data.csv')"
   ]
  },
  {
   "cell_type": "code",
   "execution_count": null,
   "metadata": {},
   "outputs": [],
   "source": []
  },
  {
   "cell_type": "code",
   "execution_count": null,
   "metadata": {},
   "outputs": [],
   "source": [
    "full_df.shape"
   ]
  },
  {
   "cell_type": "code",
   "execution_count": 3,
   "metadata": {},
   "outputs": [
    {
     "data": {
      "text/plain": [
       "['NO',\n",
       " 'LAP',\n",
       " 'GAP',\n",
       " 'TIME',\n",
       " 'cumtime',\n",
       " 'race_id',\n",
       " '5',\n",
       " '7',\n",
       " '6',\n",
       " '33',\n",
       " '19',\n",
       " '44',\n",
       " '55',\n",
       " '27',\n",
       " '3',\n",
       " '14',\n",
       " '11',\n",
       " '22',\n",
       " '30',\n",
       " '94',\n",
       " '9',\n",
       " '12',\n",
       " '77',\n",
       " '8',\n",
       " '88',\n",
       " '21',\n",
       " '20',\n",
       " 'DRIVER',\n",
       " 'ENTRANT',\n",
       " 'TIME OF DAY',\n",
       " 'STOP',\n",
       " 'DURATION',\n",
       " 'TOTAL TIME',\n",
       " 'stop_count',\n",
       " 'd_stop',\n",
       " 'target',\n",
       " '26',\n",
       " '31',\n",
       " '47',\n",
       " '18',\n",
       " '2',\n",
       " '36',\n",
       " '40',\n",
       " '10',\n",
       " '39',\n",
       " '28']"
      ]
     },
     "execution_count": 3,
     "metadata": {},
     "output_type": "execute_result"
    }
   ],
   "source": [
    "list(full_df.columns)"
   ]
  },
  {
   "cell_type": "code",
   "execution_count": 28,
   "metadata": {},
   "outputs": [],
   "source": [
    "features_df = full_df[features]"
   ]
  },
  {
   "cell_type": "code",
   "execution_count": 29,
   "metadata": {},
   "outputs": [],
   "source": [
    "target = full_df['target']"
   ]
  },
  {
   "cell_type": "code",
   "execution_count": 13,
   "metadata": {},
   "outputs": [],
   "source": [
    "fil = [e.isdigit() for e in full_df.columns]"
   ]
  },
  {
   "cell_type": "code",
   "execution_count": 16,
   "metadata": {},
   "outputs": [],
   "source": [
    "num_features = list(compress(list(full_df.columns), fil))"
   ]
  },
  {
   "cell_type": "code",
   "execution_count": 26,
   "metadata": {},
   "outputs": [],
   "source": [
    "features = ['TIME', 'cumtime','stop_count','d_stop']+num_features"
   ]
  },
  {
   "cell_type": "code",
   "execution_count": null,
   "metadata": {},
   "outputs": [],
   "source": []
  }
 ],
 "metadata": {
  "kernelspec": {
   "display_name": "Python 3",
   "language": "python",
   "name": "python3"
  },
  "language_info": {
   "codemirror_mode": {
    "name": "ipython",
    "version": 3
   },
   "file_extension": ".py",
   "mimetype": "text/x-python",
   "name": "python",
   "nbconvert_exporter": "python",
   "pygments_lexer": "ipython3",
   "version": "3.6.6"
  }
 },
 "nbformat": 4,
 "nbformat_minor": 2
}
