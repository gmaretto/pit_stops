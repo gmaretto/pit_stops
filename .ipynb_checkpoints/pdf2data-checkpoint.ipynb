{
 "cells": [
  {
   "cell_type": "code",
   "execution_count": 17,
   "metadata": {},
   "outputs": [],
   "source": [
    "import tabula\n",
    "import pandas as pd\n",
    "import requests\n",
    "import re"
   ]
  },
  {
   "cell_type": "code",
   "execution_count": 3,
   "metadata": {},
   "outputs": [],
   "source": [
    "filenames = ['best_sector_times_64.pdf','official_starting_grid_41.pdf',\n",
    "'fastest_laps_24.pdf',\n",
    "'history_chart_25.pdf','pit_stop_summary_29.pdf',\n",
    "'lap_analysis_25.pdf','provisional_starting_grid_37.pdf',\n",
    "'lap_chart_31.pdf','speed_trap_45.pdf',\n",
    "'maximum_speeds_62.pdf']"
   ]
  },
  {
   "cell_type": "code",
   "execution_count": 8,
   "metadata": {},
   "outputs": [],
   "source": [
    "for pidieffe in filenames:\n",
    "    #print(pidieffe)\n",
    "    frame_name = pidieffe[:-4]+'_df'\n",
    "    #print(frame_name)\n",
    "    exec( frame_name+\" = tabula.read_pdf(pidieffe)\")\n",
    "    #exec(frame_name+\".head()\")"
   ]
  },
  {
   "cell_type": "code",
   "execution_count": 42,
   "metadata": {},
   "outputs": [
    {
     "data": {
      "text/plain": [
       "'attachment; filename=\"official_classification_31.pdf\"'"
      ]
     },
     "execution_count": 42,
     "metadata": {},
     "output_type": "execute_result"
    }
   ],
   "source": [
    "r.headers.get('content-disposition')"
   ]
  },
  {
   "cell_type": "code",
   "execution_count": null,
   "metadata": {},
   "outputs": [],
   "source": []
  }
 ],
 "metadata": {
  "kernelspec": {
   "display_name": "Python 3",
   "language": "python",
   "name": "python3"
  },
  "language_info": {
   "codemirror_mode": {
    "name": "ipython",
    "version": 3
   },
   "file_extension": ".py",
   "mimetype": "text/x-python",
   "name": "python",
   "nbconvert_exporter": "python",
   "pygments_lexer": "ipython3",
   "version": "3.6.5"
  }
 },
 "nbformat": 4,
 "nbformat_minor": 2
}
