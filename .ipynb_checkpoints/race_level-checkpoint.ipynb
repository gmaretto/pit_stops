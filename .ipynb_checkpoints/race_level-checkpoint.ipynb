{
 "cells": [
  {
   "cell_type": "code",
   "execution_count": 174,
   "metadata": {},
   "outputs": [],
   "source": [
    "import tabula\n",
    "import pandas as pd\n",
    "import os\n",
    "import numpy as np\n",
    "import re"
   ]
  },
  {
   "cell_type": "code",
   "execution_count": 324,
   "metadata": {},
   "outputs": [],
   "source": [
    "ref_df = pd.read_csv('which_race.csv', header=0)\n",
    "pdf_list = os.listdir('raw_data')\n",
    "csv_list = os.listdir('race_frames')"
   ]
  },
  {
   "cell_type": "code",
   "execution_count": 53,
   "metadata": {},
   "outputs": [],
   "source": [
    "counter = 34"
   ]
  },
  {
   "cell_type": "code",
   "execution_count": 305,
   "metadata": {},
   "outputs": [],
   "source": [
    "d2 = {}\n",
    "d3 = {}\n",
    "for race_id in range(counter):\n",
    "    d2['race_df_'+str(race_id)]=pd.read_csv('clean_frames/race_df_'+str(race_id)+'.csv')\n",
    "    d3['pit_stop_df_'+str(race_id)]=pd.read_csv('clean_frames/pit_stop_df_'+str(race_id)+'.csv')"
   ]
  },
  {
   "cell_type": "code",
   "execution_count": 322,
   "metadata": {},
   "outputs": [],
   "source": [
    "# d2['race_df_0']"
   ]
  },
  {
   "cell_type": "code",
   "execution_count": 345,
   "metadata": {},
   "outputs": [],
   "source": [
    "d4={}\n",
    "for race_id in range(counter):\n",
    "    pit_stop_df = d3['pit_stop_df_'+str(race_id)]\n",
    "    race_df = d2['race_df_'+str(race_id)]\n",
    "    finishers = race_df[race_df['LAP'] == max(race_df['LAP'])]['NO'].unique()\n",
    "    finishers = finishers[pd.notna(finishers)]\n",
    "    race_level_df = pit_stop_df[['STOP','NO']][pit_stop_df['NO'].isin(finishers)].groupby('NO').max().reset_index()\n",
    "    race_level_df['race_id'] = race_id\n",
    "    race_level_df = race_level_df.merge(ref_df, on = ['race_id'], how ='inner')\n",
    "    race_level_df.to_csv('clean_frames/race_level_df_'+str(race_id)+'.csv')\n",
    "    d4['race_level_df_'+str(race_id)] = race_level_df"
   ]
  },
  {
   "cell_type": "code",
   "execution_count": 372,
   "metadata": {},
   "outputs": [],
   "source": [
    "race_level_df = pd.read_csv('clean_frames/race_level_df_0.csv')"
   ]
  },
  {
   "cell_type": "code",
   "execution_count": 353,
   "metadata": {},
   "outputs": [],
   "source": [
    "# [d4[x] in d4.keys]\n",
    "# list(d4.keys())"
   ]
  },
  {
   "cell_type": "code",
   "execution_count": 357,
   "metadata": {},
   "outputs": [],
   "source": [
    "pit_df = pd.concat(d4.values(),ignore_index=True)"
   ]
  },
  {
   "cell_type": "code",
   "execution_count": 365,
   "metadata": {},
   "outputs": [
    {
     "data": {
      "text/plain": [
       "<matplotlib.axes._subplots.AxesSubplot at 0x11b51a1d0>"
      ]
     },
     "execution_count": 365,
     "metadata": {},
     "output_type": "execute_result"
    },
    {
     "data": {
      "image/png": "[encoded data removed]",
      "text/plain": [
       "<Figure size 432x288 with 1 Axes>"
      ]
     },
     "metadata": {},
     "output_type": "display_data"
    }
   ],
   "source": [
    "pit_df['STOP'][pit_df['year']==2016].hist(density=True)\n",
    "pit_df['STOP'][pit_df['year']==2017].hist(density=True)\n"
   ]
  },
  {
   "cell_type": "code",
   "execution_count": 367,
   "metadata": {},
   "outputs": [
    {
     "name": "stdout",
     "output_type": "stream",
     "text": [
      "2.2857142857142856 2.025925925925926\n"
     ]
    }
   ],
   "source": [
    "print(pit_df['STOP'][pit_df['year']==2016].mean(),\n",
    "pit_df['STOP'][pit_df['year']==2017].mean())"
   ]
  },
  {
   "cell_type": "code",
   "execution_count": 370,
   "metadata": {},
   "outputs": [],
   "source": [
    "from sklearn.ensemble import RandomForestClassifier\n",
    "from sklearn.model_selection import train_test_split"
   ]
  },
  {
   "cell_type": "code",
   "execution_count": 385,
   "metadata": {},
   "outputs": [
    {
     "name": "stdout",
     "output_type": "stream",
     "text": [
      "NO <class 'int'>\n",
      "STOP <class 'int'>\n",
      "race_id <class 'int'>\n",
      "year <class 'int'>\n",
      "race_in_year <class 'int'>\n",
      "track <class 'str'>\n"
     ]
    }
   ],
   "source": [
    "for i in pit_df.columns:\n",
    "    print(i,pit_df[i].apply(type)[0])"
   ]
  },
  {
   "cell_type": "code",
   "execution_count": 412,
   "metadata": {},
   "outputs": [
    {
     "data": {
      "text/plain": [
       "0    2\n",
       "dtype: int64"
      ]
     },
     "execution_count": 412,
     "metadata": {},
     "output_type": "execute_result"
    }
   ],
   "source": [
    "pit_df['STOP'].mode()"
   ]
  },
  {
   "cell_type": "code",
   "execution_count": 422,
   "metadata": {},
   "outputs": [],
   "source": [
    "pit_df['NO'] = pit_df['NO'].astype('str')#,inplace=True)"
   ]
  },
  {
   "cell_type": "code",
   "execution_count": 423,
   "metadata": {},
   "outputs": [],
   "source": [
    "features_df = pd.get_dummies(pit_df[['NO','track','year']])"
   ]
  },
  {
   "cell_type": "code",
   "execution_count": 425,
   "metadata": {},
   "outputs": [],
   "source": [
    "features_df['race_in_year'] = pit_df['race_in_year']"
   ]
  },
  {
   "cell_type": "code",
   "execution_count": 426,
   "metadata": {},
   "outputs": [],
   "source": [
    "target = pit_df['STOP']"
   ]
  },
  {
   "cell_type": "code",
   "execution_count": 461,
   "metadata": {},
   "outputs": [],
   "source": [
    "X_train, X_test, y_train, y_test = train_test_split(features_df, target, test_size=0.33)"
   ]
  },
  {
   "cell_type": "code",
   "execution_count": 462,
   "metadata": {},
   "outputs": [],
   "source": [
    "rf_class = RandomForestClassifier(n_jobs=2, random_state=0)"
   ]
  },
  {
   "cell_type": "code",
   "execution_count": 463,
   "metadata": {},
   "outputs": [
    {
     "data": {
      "text/plain": [
       "RandomForestClassifier(bootstrap=True, class_weight=None, criterion='gini',\n",
       "            max_depth=None, max_features='auto', max_leaf_nodes=None,\n",
       "            min_impurity_decrease=0.0, min_impurity_split=None,\n",
       "            min_samples_leaf=1, min_samples_split=2,\n",
       "            min_weight_fraction_leaf=0.0, n_estimators=10, n_jobs=2,\n",
       "            oob_score=False, random_state=0, verbose=0, warm_start=False)"
      ]
     },
     "execution_count": 463,
     "metadata": {},
     "output_type": "execute_result"
    }
   ],
   "source": [
    "rf_class.fit(X_train, y_train)"
   ]
  },
  {
   "cell_type": "code",
   "execution_count": 464,
   "metadata": {},
   "outputs": [],
   "source": [
    "preds = rf_class.predict(X_test)"
   ]
  },
  {
   "cell_type": "code",
   "execution_count": 465,
   "metadata": {},
   "outputs": [
    {
     "data": {
      "text/html": [
       "<div>\n",
       "<style scoped>\n",
       "    .dataframe tbody tr th:only-of-type {\n",
       "        vertical-align: middle;\n",
       "    }\n",
       "\n",
       "    .dataframe tbody tr th {\n",
       "        vertical-align: top;\n",
       "    }\n",
       "\n",
       "    .dataframe thead th {\n",
       "        text-align: right;\n",
       "    }\n",
       "</style>\n",
       "<table border=\"1\" class=\"dataframe\">\n",
       "  <thead>\n",
       "    <tr style=\"text-align: right;\">\n",
       "      <th>Predicted Pits</th>\n",
       "      <th>1</th>\n",
       "      <th>2</th>\n",
       "      <th>3</th>\n",
       "      <th>4</th>\n",
       "    </tr>\n",
       "    <tr>\n",
       "      <th>Actual Pits</th>\n",
       "      <th></th>\n",
       "      <th></th>\n",
       "      <th></th>\n",
       "      <th></th>\n",
       "    </tr>\n",
       "  </thead>\n",
       "  <tbody>\n",
       "    <tr>\n",
       "      <th>1</th>\n",
       "      <td>58</td>\n",
       "      <td>7</td>\n",
       "      <td>0</td>\n",
       "      <td>0</td>\n",
       "    </tr>\n",
       "    <tr>\n",
       "      <th>2</th>\n",
       "      <td>13</td>\n",
       "      <td>49</td>\n",
       "      <td>4</td>\n",
       "      <td>0</td>\n",
       "    </tr>\n",
       "    <tr>\n",
       "      <th>3</th>\n",
       "      <td>4</td>\n",
       "      <td>9</td>\n",
       "      <td>12</td>\n",
       "      <td>3</td>\n",
       "    </tr>\n",
       "    <tr>\n",
       "      <th>4</th>\n",
       "      <td>0</td>\n",
       "      <td>2</td>\n",
       "      <td>2</td>\n",
       "      <td>8</td>\n",
       "    </tr>\n",
       "    <tr>\n",
       "      <th>5</th>\n",
       "      <td>0</td>\n",
       "      <td>0</td>\n",
       "      <td>0</td>\n",
       "      <td>4</td>\n",
       "    </tr>\n",
       "    <tr>\n",
       "      <th>6</th>\n",
       "      <td>0</td>\n",
       "      <td>0</td>\n",
       "      <td>0</td>\n",
       "      <td>2</td>\n",
       "    </tr>\n",
       "  </tbody>\n",
       "</table>\n",
       "</div>"
      ],
      "text/plain": [
       "Predicted Pits   1   2   3  4\n",
       "Actual Pits                  \n",
       "1               58   7   0  0\n",
       "2               13  49   4  0\n",
       "3                4   9  12  3\n",
       "4                0   2   2  8\n",
       "5                0   0   0  4\n",
       "6                0   0   0  2"
      ]
     },
     "execution_count": 465,
     "metadata": {},
     "output_type": "execute_result"
    }
   ],
   "source": [
    "pd.crosstab(y_test, preds, rownames=['Actual Pits'], colnames=['Predicted Pits'])"
   ]
  },
  {
   "cell_type": "code",
   "execution_count": 466,
   "metadata": {},
   "outputs": [
    {
     "data": {
      "text/plain": [
       "[('year', 0.09766009435996041),\n",
       " ('NO_10', 0.0013498471524653164),\n",
       " ('NO_11', 0.025797133993401816),\n",
       " ('NO_12', 0.008844661056321057),\n",
       " ('NO_14', 0.021185345017328217),\n",
       " ('NO_18', 0.01100816052764304),\n",
       " ('NO_19', 0.017350040324650047),\n",
       " ('NO_2', 0.004490375572461989),\n",
       " ('NO_20', 0.02561033913845533),\n",
       " ('NO_21', 0.00996373574437116),\n",
       " ('NO_22', 0.011125116617766051),\n",
       " ('NO_26', 0.0157865277144333),\n",
       " ('NO_27', 0.01441184532043997),\n",
       " ('NO_28', 0.0),\n",
       " ('NO_3', 0.0222469877592694),\n",
       " ('NO_30', 0.017058235912809805),\n",
       " ('NO_31', 0.007528306240192702),\n",
       " ('NO_33', 0.028595216753650392),\n",
       " ('NO_36', 0.0),\n",
       " ('NO_39', 0.0027769428843216195),\n",
       " ('NO_44', 0.02098616105450217),\n",
       " ('NO_47', 0.0),\n",
       " ('NO_5', 0.018952414971498237),\n",
       " ('NO_55', 0.012725667507118534),\n",
       " ('NO_6', 0.020482995828185992),\n",
       " ('NO_7', 0.026683267759575514),\n",
       " ('NO_77', 0.030932492292274016),\n",
       " ('NO_8', 0.02209019532283034),\n",
       " ('NO_88', 0.0016145364923063187),\n",
       " ('NO_9', 0.029387380712556872),\n",
       " ('NO_94', 0.022585754390312896),\n",
       " ('track_ Monte-Carlo', 0.008973554919978543),\n",
       " ('track_ Spielberg', 0.023599517151129512),\n",
       " ('track_Austin', 0.014181462994628502),\n",
       " ('track_Baku', 0.01832964370922839),\n",
       " ('track_Budapest', 0.00963558425722674),\n",
       " ('track_Catalunya', 0.02016745928405659),\n",
       " ('track_Kuala Lumpur', 0.005027258365039521),\n",
       " ('track_Melbourne', 0.008505723182553047),\n",
       " ('track_Mexico City', 0.015821860135545936),\n",
       " ('track_Montréal', 0.010698968306073482),\n",
       " ('track_Monza', 0.008997326179314338),\n",
       " ('track_Sakhir', 0.014842680039771575),\n",
       " ('track_Shanghai', 0.02338151641586372),\n",
       " ('track_Silverstone', 0.007758236834372563),\n",
       " ('track_Singapore', 0.02583382161570168),\n",
       " ('track_Sochi', 0.017111080328132043),\n",
       " ('track_Spa-Francorchamps', 0.026506715718351247),\n",
       " ('track_Suzuka', 0.005906875038774831),\n",
       " ('track_São Paulo', 0.034082415652513534),\n",
       " ('track_Yas Marina', 0.010978673714054287),\n",
       " ('race_in_year', 0.14042984773658737)]"
      ]
     },
     "execution_count": 466,
     "metadata": {},
     "output_type": "execute_result"
    }
   ],
   "source": [
    "list(zip(X_train, rf_class.feature_importances_))"
   ]
  },
  {
   "cell_type": "code",
   "execution_count": 467,
   "metadata": {},
   "outputs": [],
   "source": [
    "from sklearn.metrics import accuracy_score"
   ]
  },
  {
   "cell_type": "code",
   "execution_count": 468,
   "metadata": {},
   "outputs": [
    {
     "data": {
      "text/plain": [
       "0.7175141242937854"
      ]
     },
     "execution_count": 468,
     "metadata": {},
     "output_type": "execute_result"
    }
   ],
   "source": [
    "accuracy_score(y_test, preds)"
   ]
  },
  {
   "cell_type": "code",
   "execution_count": 469,
   "metadata": {},
   "outputs": [
    {
     "data": {
      "text/plain": [
       "0.3728813559322034"
      ]
     },
     "execution_count": 469,
     "metadata": {},
     "output_type": "execute_result"
    }
   ],
   "source": [
    "accuracy_score(y_test, np.ones(177,)*(y_train.mode().values[0]))"
   ]
  },
  {
   "cell_type": "code",
   "execution_count": 446,
   "metadata": {},
   "outputs": [],
   "source": [
    "# dfs = []\n",
    "# counter = 0\n",
    "# for _pdf in os.listdir('raw_data'):\n",
    "#     if (_pdf.lower().endswith(('.pdf'))) & ('history' in _pdf.lower()):\n",
    "#         _name ='history_chart_'+str(counter)+'_df'\n",
    "#         print(type(_name))\n",
    "#         counter+=1\n",
    "# #         print(_pdf)\n",
    "# #         print(_name)\n",
    "#         dfs.append(_name)\n",
    "#         exec( _name+\" = tabula.read_pdf('raw_data/'+_pdf,pages='all')\")\n",
    "#         exec(_name+\".to_csv('race_frames/'+_name+'.csv')\")\n",
    "\n",
    "# def pdf_to_csv(race_id):\n",
    "#     '''\n",
    "#     takes a race_id number as argument\n",
    "#     gets the appropriate pdf files from '/raw_data'\n",
    "#     read them into df's\n",
    "#     saves the df's into csvs in '/race_frames'\n",
    "#     '''\n",
    "#     year = ref_df[ref_df['race_id']==race_id]['year'].values[0]\n",
    "#     race_in_year = ref_df[ref_df['race_id']==race_id]['race_in_year'].values[0]\n",
    "#     correction = len(str(race_in_year))\n",
    "#     for _pdf in pdf_list:\n",
    "#         if (_pdf.lower().endswith(('.pdf'))) & ('jpg' not in _pdf.lower()) & (_pdf.lower().startswith(str(year))) & (_pdf.lower()[5:].startswith(str(race_in_year)+'_')):\n",
    "#             print('year is ',year)\n",
    "#             print('race_id is ',race_id)\n",
    "#             print('race_in_year',race_in_year,':',correction)\n",
    "#             print(_pdf)\n",
    "#             if ('history' in _pdf.lower()):\n",
    "# #         if (_pdf.lower().endswith(('.pdf'))) & ('jpg' not in _pdf.lower()) & (_pdf.lower().startswith(str(year))) & (_pdf.lower()[5:].startswith(str(race_in_year))):\n",
    "#                 print(_pdf[6+correction:])\n",
    "#                 _name = _pdf[6+correction:-4]+'_'+str(race_id)+'_df'\n",
    "#                 exec( _name+\" = tabula.read_pdf('raw_data/'+_pdf,pages='all')\")\n",
    "#                 exec(_name+'[\"race_id\"] = race_id')\n",
    "#                 exec(_name+\".to_csv('race_frames/'+_name+'.csv')\")\n",
    "#                 print(_name)\n",
    "#              elif ('stop' in _pdf.lower())):\n",
    "#     return None\n",
    "\n",
    "\n",
    "# ref_df[ref_df['race_id']==4]['race_in_year'].values[0]\n",
    "\n",
    "# # race_id = 2\n",
    "# year = ref_df[ref_df['race_id']==race_id]['year'].values[0]\n",
    "# race_in_year = ref_df[ref_df['race_id']==race_id]['race_in_year'].values[0]\n",
    "# correction = len(str(race_in_year))\n",
    "# for _pdf in os.listdir('raw_data'):\n",
    "#     if (_pdf.lower().endswith(('.pdf'))) & ('jpg' not in _pdf.lower()) & (_pdf.lower().startswith(str(year))) & (_pdf.lower()[5:].startswith(str(race_in_year))) & ( ('history' in _pdf.lower()) | ('stop' in _pdf.lower())):\n",
    "# #         print(_pdf[6+correction:])\n",
    "#         exec( _name+\" = tabula.read_pdf('raw_data/'+_pdf,pages='all')\")\n",
    "#         _name = _pdf[6+correction:-4]+'_'+str(race_id)+'_df'\n",
    "#         exec(_name+'[\"race_id\"] = race_id')\n",
    "#         exec(_name+\".to_csv('race_frames/'+_name+'.csv')\")\n",
    "# #         print(_name)"
   ]
  },
  {
   "cell_type": "code",
   "execution_count": null,
   "metadata": {},
   "outputs": [],
   "source": []
  }
 ],
 "metadata": {
  "kernelspec": {
   "display_name": "Python 3",
   "language": "python",
   "name": "python3"
  },
  "language_info": {
   "codemirror_mode": {
    "name": "ipython",
    "version": 3
   },
   "file_extension": ".py",
   "mimetype": "text/x-python",
   "name": "python",
   "nbconvert_exporter": "python",
   "pygments_lexer": "ipython3",
   "version": "3.6.6"
  }
 },
 "nbformat": 4,
 "nbformat_minor": 2
}
