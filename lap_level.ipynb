{
 "cells": [
  {
   "cell_type": "code",
   "execution_count": 683,
   "metadata": {},
   "outputs": [],
   "source": [
    "import pandas as pd\n",
    "import os\n",
    "import numpy as np\n",
    "import re\n",
    "import datetime"
   ]
  },
  {
   "cell_type": "code",
   "execution_count": 684,
   "metadata": {},
   "outputs": [],
   "source": [
    "pd.set_option('display.max_columns', 500)"
   ]
  },
  {
   "cell_type": "code",
   "execution_count": 685,
   "metadata": {},
   "outputs": [],
   "source": [
    "ref_df = pd.read_csv('which_race.csv', header=0)\n",
    "csv_list = os.listdir('clean_frames')\n",
    "counter = 34"
   ]
  },
  {
   "cell_type": "code",
   "execution_count": 686,
   "metadata": {},
   "outputs": [],
   "source": [
    "d2 = {}\n",
    "d3 = {}\n",
    "for race_id in range(counter):\n",
    "    d2['race_df_'+str(race_id)]=pd.read_csv('clean_frames/race_df_'+str(race_id)+'.csv')\n",
    "    d3['pit_stop_df_'+str(race_id)]=pd.read_csv('clean_frames/pit_stop_df_'+str(race_id)+'.csv')"
   ]
  },
  {
   "cell_type": "code",
   "execution_count": 687,
   "metadata": {},
   "outputs": [],
   "source": [
    "# for race_id in range(counter):\n",
    "#     race_df = d2['race_df_'+str(race_id)]\n",
    "# #     if race_df.index.get_level_values('LAP').max()!=race_df.index.get_level_values('LAP').nunique():\n",
    "#     if race_df['LAP'].max()!=race_df['LAP'].nunique():\n",
    "# #         print(counter, \"actual laps:\",race_df.index.get_level_values('LAP').nunique(), \"index laps\" ,race_df.index.get_level_values('LAP').max()==race_df.index.get_level_values('LAP').nunique())\n",
    "#         print(race_id, \"actual laps:\",race_df['LAP'].nunique(), \"index laps\" ,race_df['LAP'].max())\n",
    "#         if race_df['LAP'].max()>race_df['LAP'].nunique():\n",
    "#             print('at least it makes sense')"
   ]
  },
  {
   "cell_type": "code",
   "execution_count": 688,
   "metadata": {},
   "outputs": [],
   "source": [
    "# new_index = [x for x in range(1,race_df.index.get_level_values('LAP').nunique()+1)]\n",
    "# #race_df.index.get_level_values('LAP').nunique()"
   ]
  },
  {
   "cell_type": "code",
   "execution_count": 689,
   "metadata": {},
   "outputs": [],
   "source": [
    "# for i in d2.keys():\n",
    "#     print(i,'is',d2[i].shape)"
   ]
  },
  {
   "cell_type": "code",
   "execution_count": 690,
   "metadata": {},
   "outputs": [],
   "source": [
    "def distances(x):\n",
    "    return x.values[:,None]-x.values"
   ]
  },
  {
   "cell_type": "code",
   "execution_count": 691,
   "metadata": {},
   "outputs": [],
   "source": [
    "race_df = d2['race_df_4']\n",
    "# dfone = pd.concat(d2.values())\n",
    "pit_stop_df = d3['pit_stop_df_4']"
   ]
  },
  {
   "cell_type": "code",
   "execution_count": 692,
   "metadata": {},
   "outputs": [],
   "source": [
    "race_df['TIME'] = race_df['TIME'].apply(lambda x: int(x.split(':')[0])*60 + float(x.split(':')[1]))"
   ]
  },
  {
   "cell_type": "code",
   "execution_count": 693,
   "metadata": {},
   "outputs": [],
   "source": [
    "race_df['cumtime']=race_df[['TIME','NO']].groupby('NO').cumsum(skipna=True)"
   ]
  },
  {
   "cell_type": "code",
   "execution_count": 694,
   "metadata": {},
   "outputs": [],
   "source": [
    "# pit_stop_df.columns"
   ]
  },
  {
   "cell_type": "code",
   "execution_count": 695,
   "metadata": {},
   "outputs": [],
   "source": [
    "race_df.drop(columns = ['Unnamed: 0'], inplace=True)"
   ]
  },
  {
   "cell_type": "code",
   "execution_count": 696,
   "metadata": {},
   "outputs": [],
   "source": [
    "pit_stop_df.drop(columns = ['Unnamed: 0','Unnamed: 0.1','Unnamed: 6'], inplace=True)"
   ]
  },
  {
   "cell_type": "code",
   "execution_count": 697,
   "metadata": {},
   "outputs": [],
   "source": [
    "last_lap = max(race_df['LAP'])"
   ]
  },
  {
   "cell_type": "code",
   "execution_count": 698,
   "metadata": {},
   "outputs": [],
   "source": [
    "race_df['progress'] =  race_df['LAP']/last_lap"
   ]
  },
  {
   "cell_type": "code",
   "execution_count": 699,
   "metadata": {},
   "outputs": [],
   "source": [
    "# race_df['temp_lap'] =  race_df['LAP']"
   ]
  },
  {
   "cell_type": "code",
   "execution_count": 700,
   "metadata": {},
   "outputs": [],
   "source": [
    "race_df.set_index(['NO','LAP'], inplace=True)"
   ]
  },
  {
   "cell_type": "code",
   "execution_count": 701,
   "metadata": {},
   "outputs": [],
   "source": [
    "race_df = race_df[~race_df.index.duplicated(keep='first')]"
   ]
  },
  {
   "cell_type": "code",
   "execution_count": 702,
   "metadata": {},
   "outputs": [],
   "source": [
    "new_index = [x for x in range(1,race_df.index.get_level_values('LAP').nunique()+1)]\n",
    "\n",
    "reindex_d = dict(zip(list(race_df.index.get_level_values('LAP').unique()), new_index))\n",
    "\n",
    "race_df.rename(index=reindex_d,level=1,inplace=True)"
   ]
  },
  {
   "cell_type": "code",
   "execution_count": 703,
   "metadata": {},
   "outputs": [],
   "source": [
    "race_df['progress'] = race_df.index.get_level_values('LAP')/(race_df.index.get_level_values('LAP').nunique())"
   ]
  },
  {
   "cell_type": "code",
   "execution_count": 704,
   "metadata": {},
   "outputs": [],
   "source": [
    "d_gaps={}\n",
    "for i in range(0,last_lap):\n",
    "    lap = i+1\n",
    "#     gaps_df = pd.DataFrame(distances(race_df['TIME'][race_df['LAP']==lap]),columns=list(race_df['NO'][race_df['LAP']==lap ].values),index = race_df['NO'][race_df['LAP']==lap].values)\n",
    "    gaps_df = pd.DataFrame(distances(race_df['TIME'][race_df.index.get_level_values(1)==lap]),columns=list(race_df.index.get_level_values(0)[race_df.index.get_level_values(1)==lap].values),index = race_df.index.get_level_values(0)[race_df.index.get_level_values(1)==lap].values)\n",
    "#     print(gaps_df.head(3))\n",
    "    gaps_df['LAP'] = lap\n",
    "\n",
    "    gaps_df.reset_index(level=0, inplace=True)\n",
    "\n",
    "    gaps_df.rename({'index':'NO'},axis='columns',inplace=True)  \n",
    "\n",
    "#     gaps_df.set_index(['NO','LAP'], inplace=True)\n",
    "    \n",
    "    d_gaps['gaps_df_lap_'+str(lap)] = gaps_df\n",
    "    \n",
    "#     gaps_df.drop(columns = ['Unnamed: 0'], inplace=True)"
   ]
  },
  {
   "cell_type": "code",
   "execution_count": 705,
   "metadata": {},
   "outputs": [],
   "source": [
    "# race_df.index.get_level_values(0)[race_df.index.get_level_values(1)==36]"
   ]
  },
  {
   "cell_type": "code",
   "execution_count": 706,
   "metadata": {},
   "outputs": [],
   "source": [
    "# race_df.set_index(['NO','LAP'], inplace=True)\n",
    "for i in range(0,last_lap):\n",
    "    lap = i+1\n",
    "#     print(lap)\n",
    "    gaps_df = d_gaps['gaps_df_lap_'+str(lap)]    \n",
    "    gaps_df.set_index(['NO','LAP'], inplace=True)\n",
    "    if lap==1:\n",
    "        race_df = race_df.merge(gaps_df, on=['NO','LAP'], how=\"outer\")\n",
    "    else:\n",
    "#     elif lap!=36:\n",
    "        race_df.update(gaps_df, join='left')#, overwrite=True, filter_func=None, raise_conflict=False)"
   ]
  },
  {
   "cell_type": "code",
   "execution_count": 731,
   "metadata": {},
   "outputs": [],
   "source": [
    "new_df = race_df.merge(pit_stop_df, on=['NO', 'LAP'], how='outer')"
   ]
  },
  {
   "cell_type": "code",
   "execution_count": 732,
   "metadata": {},
   "outputs": [],
   "source": [
    "# race_df['TIME'] = race_df['TIME'].apply(lambda x: float(x.split(':')[0])*60 + float(x.split(':')[1]))"
   ]
  },
  {
   "cell_type": "code",
   "execution_count": 733,
   "metadata": {},
   "outputs": [],
   "source": [
    "def pit_time(x):\n",
    "    if isinstance(x,float):\n",
    "        return x\n",
    "    else:\n",
    "        if ':' in x:\n",
    "            return int(x.split(':')[0])*60 + float(x.split(':')[1])\n",
    "        else:\n",
    "            return float(x)"
   ]
  },
  {
   "cell_type": "code",
   "execution_count": 730,
   "metadata": {},
   "outputs": [
    {
     "name": "stderr",
     "output_type": "stream",
     "text": [
      "/Users/guido/anaconda/lib/python3.6/site-packages/ipykernel_launcher.py:1: SettingWithCopyWarning: \n",
      "A value is trying to be set on a copy of a slice from a DataFrame\n",
      "\n",
      "See the caveats in the documentation: http://pandas.pydata.org/pandas-docs/stable/indexing.html#indexing-view-versus-copy\n",
      "  \"\"\"Entry point for launching an IPython kernel.\n"
     ]
    }
   ],
   "source": [
    "new_df['TOTAL TIME'][new_df['TOTAL TIME'].notna()] = new_df['TOTAL TIME'][new_df['TOTAL TIME'].notna()].apply(pit_time)\n",
    "\n",
    "# new_df['mean_pit'] = np.mean(new_df['TOTAL TIME'][new_df['TOTAL TIME'].notna()])\n",
    "\n",
    "# new_df['median_pit'] = np.median(new_df['TOTAL TIME'][new_df['TOTAL TIME'].notna()])"
   ]
  },
  {
   "cell_type": "code",
   "execution_count": 558,
   "metadata": {},
   "outputs": [],
   "source": [
    "new_df.to_csv('new_df.csv',index=False)\n",
    "# new_df = pd.read_csv('new_df.csv')"
   ]
  },
  {
   "cell_type": "code",
   "execution_count": null,
   "metadata": {},
   "outputs": [],
   "source": []
  },
  {
   "cell_type": "code",
   "execution_count": 736,
   "metadata": {},
   "outputs": [
    {
     "data": {
      "text/plain": [
       "0          NaN\n",
       "1          NaN\n",
       "2          NaN\n",
       "3          NaN\n",
       "4          NaN\n",
       "5       22.087\n",
       "6          NaN\n",
       "7          NaN\n",
       "8          NaN\n",
       "9          NaN\n",
       "10         NaN\n",
       "11         NaN\n",
       "12         NaN\n",
       "13         NaN\n",
       "14         NaN\n",
       "15         NaN\n",
       "16         NaN\n",
       "17         NaN\n",
       "18      23.897\n",
       "19         NaN\n",
       "20      32.608\n",
       "21         NaN\n",
       "22         NaN\n",
       "23         NaN\n",
       "24         NaN\n",
       "25         NaN\n",
       "26         NaN\n",
       "27         NaN\n",
       "28         NaN\n",
       "29         NaN\n",
       "         ...  \n",
       "1425       NaN\n",
       "1426       NaN\n",
       "1427       NaN\n",
       "1428       NaN\n",
       "1429       NaN\n",
       "1430       NaN\n",
       "1431       NaN\n",
       "1432       NaN\n",
       "1433       NaN\n",
       "1434       NaN\n",
       "1435       NaN\n",
       "1436       NaN\n",
       "1437       NaN\n",
       "1438       NaN\n",
       "1439       NaN\n",
       "1440       NaN\n",
       "1441       NaN\n",
       "1442       NaN\n",
       "1443       NaN\n",
       "1444       NaN\n",
       "1445       NaN\n",
       "1446       NaN\n",
       "1447       NaN\n",
       "1448       NaN\n",
       "1449       NaN\n",
       "1450       NaN\n",
       "1451       NaN\n",
       "1452       NaN\n",
       "1453    47.632\n",
       "1454    23.540\n",
       "Name: TOTAL TIME, Length: 1455, dtype: float64"
      ]
     },
     "execution_count": 736,
     "metadata": {},
     "output_type": "execute_result"
    }
   ],
   "source": [
    "new_df['TOTAL TIME']#[new_df['TOTAL TIME'].notna()].apply(pit_time)"
   ]
  },
  {
   "cell_type": "code",
   "execution_count": 560,
   "metadata": {},
   "outputs": [],
   "source": [
    "new_df.set_index(['NO','LAP'], inplace=True)"
   ]
  },
  {
   "cell_type": "code",
   "execution_count": 561,
   "metadata": {},
   "outputs": [],
   "source": [
    "# # new_df['stop_count'] = np.nan\n",
    "# new_df['stop_count'] = new_df['STOP']\n",
    "# ###filling the first lap stop_count0s\n",
    "# new_df['stop_count'][(new_df.index.get_level_values(1)==1) & (new_df['STOP']!=1)] = 0"
   ]
  },
  {
   "cell_type": "code",
   "execution_count": 562,
   "metadata": {},
   "outputs": [],
   "source": [
    "new_df['d_stop'] = new_df['STOP']>0\n",
    "new_df['target'] = np.nan"
   ]
  },
  {
   "cell_type": "code",
   "execution_count": 563,
   "metadata": {},
   "outputs": [],
   "source": [
    "def reset_lap_counter(lap,pits):\n",
    "#     print('lap',lap)\n",
    "    return lap - np.append(np.intersect1d(pits,np.arange(1,lap)),0).max()"
   ]
  },
  {
   "cell_type": "code",
   "execution_count": 564,
   "metadata": {},
   "outputs": [],
   "source": [
    "# # for j in new_df.index.get_level_values('NO').unique():  \n",
    "# for j in new_df.NO.unique():  \n",
    "# #     x = pd.concat([new_df['stop_count'][new_df.index.get_level_values('NO')==j].unstack(0).ffill().stack(0)],axis=1).swaplevel();\n",
    "#     x = pd.concat([new_df['stop_count'][new_df.index.get_level_values('NO')==j].unstack(0).ffill().stack(0)],axis=1).swaplevel();\n",
    "#     x.columns = ['stop_count'];\n",
    "# #     new_df.update(x,join='left');\n",
    "# #     new_df['target'][(new_df.index.get_level_values(0)==j)] = new_df['d_stop'][(new_df.index.get_level_values(0)==j)].shift(-1)"
   ]
  },
  {
   "cell_type": "code",
   "execution_count": 565,
   "metadata": {},
   "outputs": [],
   "source": [
    "# # filling the first lap stop_count0s\n",
    "# # new_df['stop_count'][(new_df.index.get_level_values(1)== 1) & (new_df['STOP'] != 1)] = 0\n",
    "# # new_df['stop_count'][(new_df['LAP']== 1) & (new_df['STOP'] != 1)] = 0\n",
    "# new_df['d_stop'] = new_df['STOP'] > 0"
   ]
  },
  {
   "cell_type": "code",
   "execution_count": 566,
   "metadata": {},
   "outputs": [],
   "source": [
    "# _num = 44\n",
    "# # new_df[new_df.index.get_level_values(0)==_num]['laps_since_pit']=new_df.index.get_level_values(1)\n",
    "# new_df[new_df.NO==_num][['laps_since_pit','LAP']] #= new_df.LAP"
   ]
  },
  {
   "cell_type": "code",
   "execution_count": 567,
   "metadata": {},
   "outputs": [],
   "source": [
    "new_df['laps_since_pit'] = new_df.index.get_level_values('LAP')\n",
    "# new_df['laps_since_pit'] = new_df['laps_since_pit'][new_df['NO']==_num].apply(lambda x: reset_lap_counter(x,pits))\n",
    "# new_df['laps_since_pit'] = new_df['laps_since_pit'][new_df.index.get_level_values(0)==_num].apply(lambda x: reset_lap_counter(x,pits))\n",
    "pits = new_df.index.get_level_values('LAP')[(new_df['d_stop'])&(new_df.index.get_level_values('NO')==7)].values\n",
    "# new_df['laps_since_pit'] = new_df['laps_since_pit'][new_df.index.get_level_values(0)==7].apply(lambda x: reset_lap_counter(x,pits))"
   ]
  },
  {
   "cell_type": "code",
   "execution_count": 568,
   "metadata": {},
   "outputs": [
    {
     "name": "stderr",
     "output_type": "stream",
     "text": [
      "/Users/guido/anaconda/lib/python3.6/site-packages/ipykernel_launcher.py:3: SettingWithCopyWarning: \n",
      "A value is trying to be set on a copy of a slice from a DataFrame\n",
      "\n",
      "See the caveats in the documentation: http://pandas.pydata.org/pandas-docs/stable/indexing.html#indexing-view-versus-copy\n",
      "  This is separate from the ipykernel package so we can avoid doing imports until\n",
      "/Users/guido/anaconda/lib/python3.6/site-packages/ipykernel_launcher.py:11: SettingWithCopyWarning: \n",
      "A value is trying to be set on a copy of a slice from a DataFrame\n",
      "\n",
      "See the caveats in the documentation: http://pandas.pydata.org/pandas-docs/stable/indexing.html#indexing-view-versus-copy\n",
      "  # This is added back by InteractiveShellApp.init_path()\n",
      "/Users/guido/anaconda/lib/python3.6/site-packages/ipykernel_launcher.py:12: SettingWithCopyWarning: \n",
      "A value is trying to be set on a copy of a slice from a DataFrame\n",
      "\n",
      "See the caveats in the documentation: http://pandas.pydata.org/pandas-docs/stable/indexing.html#indexing-view-versus-copy\n",
      "  if sys.path[0] == '':\n",
      "/Users/guido/anaconda/lib/python3.6/site-packages/ipykernel_launcher.py:13: SettingWithCopyWarning: \n",
      "A value is trying to be set on a copy of a slice from a DataFrame\n",
      "\n",
      "See the caveats in the documentation: http://pandas.pydata.org/pandas-docs/stable/indexing.html#indexing-view-versus-copy\n",
      "  del sys.path[0]\n",
      "/Users/guido/anaconda/lib/python3.6/site-packages/ipykernel_launcher.py:11: SettingWithCopyWarning: \n",
      "A value is trying to be set on a copy of a slice from a DataFrame\n",
      "\n",
      "See the caveats in the documentation: http://pandas.pydata.org/pandas-docs/stable/indexing.html#indexing-view-versus-copy\n",
      "  # This is added back by InteractiveShellApp.init_path()\n",
      "/Users/guido/anaconda/lib/python3.6/site-packages/ipykernel_launcher.py:12: SettingWithCopyWarning: \n",
      "A value is trying to be set on a copy of a slice from a DataFrame\n",
      "\n",
      "See the caveats in the documentation: http://pandas.pydata.org/pandas-docs/stable/indexing.html#indexing-view-versus-copy\n",
      "  if sys.path[0] == '':\n",
      "/Users/guido/anaconda/lib/python3.6/site-packages/ipykernel_launcher.py:11: SettingWithCopyWarning: \n",
      "A value is trying to be set on a copy of a slice from a DataFrame\n",
      "\n",
      "See the caveats in the documentation: http://pandas.pydata.org/pandas-docs/stable/indexing.html#indexing-view-versus-copy\n",
      "  # This is added back by InteractiveShellApp.init_path()\n",
      "/Users/guido/anaconda/lib/python3.6/site-packages/ipykernel_launcher.py:12: SettingWithCopyWarning: \n",
      "A value is trying to be set on a copy of a slice from a DataFrame\n",
      "\n",
      "See the caveats in the documentation: http://pandas.pydata.org/pandas-docs/stable/indexing.html#indexing-view-versus-copy\n",
      "  if sys.path[0] == '':\n",
      "/Users/guido/anaconda/lib/python3.6/site-packages/ipykernel_launcher.py:11: SettingWithCopyWarning: \n",
      "A value is trying to be set on a copy of a slice from a DataFrame\n",
      "\n",
      "See the caveats in the documentation: http://pandas.pydata.org/pandas-docs/stable/indexing.html#indexing-view-versus-copy\n",
      "  # This is added back by InteractiveShellApp.init_path()\n",
      "/Users/guido/anaconda/lib/python3.6/site-packages/ipykernel_launcher.py:12: SettingWithCopyWarning: \n",
      "A value is trying to be set on a copy of a slice from a DataFrame\n",
      "\n",
      "See the caveats in the documentation: http://pandas.pydata.org/pandas-docs/stable/indexing.html#indexing-view-versus-copy\n",
      "  if sys.path[0] == '':\n",
      "/Users/guido/anaconda/lib/python3.6/site-packages/ipykernel_launcher.py:11: SettingWithCopyWarning: \n",
      "A value is trying to be set on a copy of a slice from a DataFrame\n",
      "\n",
      "See the caveats in the documentation: http://pandas.pydata.org/pandas-docs/stable/indexing.html#indexing-view-versus-copy\n",
      "  # This is added back by InteractiveShellApp.init_path()\n",
      "/Users/guido/anaconda/lib/python3.6/site-packages/ipykernel_launcher.py:12: SettingWithCopyWarning: \n",
      "A value is trying to be set on a copy of a slice from a DataFrame\n",
      "\n",
      "See the caveats in the documentation: http://pandas.pydata.org/pandas-docs/stable/indexing.html#indexing-view-versus-copy\n",
      "  if sys.path[0] == '':\n",
      "/Users/guido/anaconda/lib/python3.6/site-packages/ipykernel_launcher.py:11: SettingWithCopyWarning: \n",
      "A value is trying to be set on a copy of a slice from a DataFrame\n",
      "\n",
      "See the caveats in the documentation: http://pandas.pydata.org/pandas-docs/stable/indexing.html#indexing-view-versus-copy\n",
      "  # This is added back by InteractiveShellApp.init_path()\n",
      "/Users/guido/anaconda/lib/python3.6/site-packages/ipykernel_launcher.py:12: SettingWithCopyWarning: \n",
      "A value is trying to be set on a copy of a slice from a DataFrame\n",
      "\n",
      "See the caveats in the documentation: http://pandas.pydata.org/pandas-docs/stable/indexing.html#indexing-view-versus-copy\n",
      "  if sys.path[0] == '':\n",
      "/Users/guido/anaconda/lib/python3.6/site-packages/ipykernel_launcher.py:11: SettingWithCopyWarning: \n",
      "A value is trying to be set on a copy of a slice from a DataFrame\n",
      "\n",
      "See the caveats in the documentation: http://pandas.pydata.org/pandas-docs/stable/indexing.html#indexing-view-versus-copy\n",
      "  # This is added back by InteractiveShellApp.init_path()\n",
      "/Users/guido/anaconda/lib/python3.6/site-packages/ipykernel_launcher.py:12: SettingWithCopyWarning: \n",
      "A value is trying to be set on a copy of a slice from a DataFrame\n",
      "\n",
      "See the caveats in the documentation: http://pandas.pydata.org/pandas-docs/stable/indexing.html#indexing-view-versus-copy\n",
      "  if sys.path[0] == '':\n",
      "/Users/guido/anaconda/lib/python3.6/site-packages/ipykernel_launcher.py:11: SettingWithCopyWarning: \n",
      "A value is trying to be set on a copy of a slice from a DataFrame\n",
      "\n",
      "See the caveats in the documentation: http://pandas.pydata.org/pandas-docs/stable/indexing.html#indexing-view-versus-copy\n",
      "  # This is added back by InteractiveShellApp.init_path()\n",
      "/Users/guido/anaconda/lib/python3.6/site-packages/ipykernel_launcher.py:12: SettingWithCopyWarning: \n",
      "A value is trying to be set on a copy of a slice from a DataFrame\n",
      "\n",
      "See the caveats in the documentation: http://pandas.pydata.org/pandas-docs/stable/indexing.html#indexing-view-versus-copy\n",
      "  if sys.path[0] == '':\n",
      "/Users/guido/anaconda/lib/python3.6/site-packages/ipykernel_launcher.py:11: SettingWithCopyWarning: \n",
      "A value is trying to be set on a copy of a slice from a DataFrame\n",
      "\n",
      "See the caveats in the documentation: http://pandas.pydata.org/pandas-docs/stable/indexing.html#indexing-view-versus-copy\n",
      "  # This is added back by InteractiveShellApp.init_path()\n",
      "/Users/guido/anaconda/lib/python3.6/site-packages/ipykernel_launcher.py:12: SettingWithCopyWarning: \n",
      "A value is trying to be set on a copy of a slice from a DataFrame\n",
      "\n",
      "See the caveats in the documentation: http://pandas.pydata.org/pandas-docs/stable/indexing.html#indexing-view-versus-copy\n",
      "  if sys.path[0] == '':\n",
      "/Users/guido/anaconda/lib/python3.6/site-packages/ipykernel_launcher.py:11: SettingWithCopyWarning: \n",
      "A value is trying to be set on a copy of a slice from a DataFrame\n",
      "\n",
      "See the caveats in the documentation: http://pandas.pydata.org/pandas-docs/stable/indexing.html#indexing-view-versus-copy\n",
      "  # This is added back by InteractiveShellApp.init_path()\n",
      "/Users/guido/anaconda/lib/python3.6/site-packages/ipykernel_launcher.py:12: SettingWithCopyWarning: \n",
      "A value is trying to be set on a copy of a slice from a DataFrame\n",
      "\n",
      "See the caveats in the documentation: http://pandas.pydata.org/pandas-docs/stable/indexing.html#indexing-view-versus-copy\n",
      "  if sys.path[0] == '':\n",
      "/Users/guido/anaconda/lib/python3.6/site-packages/ipykernel_launcher.py:11: SettingWithCopyWarning: \n",
      "A value is trying to be set on a copy of a slice from a DataFrame\n",
      "\n",
      "See the caveats in the documentation: http://pandas.pydata.org/pandas-docs/stable/indexing.html#indexing-view-versus-copy\n",
      "  # This is added back by InteractiveShellApp.init_path()\n",
      "/Users/guido/anaconda/lib/python3.6/site-packages/ipykernel_launcher.py:12: SettingWithCopyWarning: \n",
      "A value is trying to be set on a copy of a slice from a DataFrame\n",
      "\n",
      "See the caveats in the documentation: http://pandas.pydata.org/pandas-docs/stable/indexing.html#indexing-view-versus-copy\n",
      "  if sys.path[0] == '':\n",
      "/Users/guido/anaconda/lib/python3.6/site-packages/ipykernel_launcher.py:11: SettingWithCopyWarning: \n",
      "A value is trying to be set on a copy of a slice from a DataFrame\n",
      "\n",
      "See the caveats in the documentation: http://pandas.pydata.org/pandas-docs/stable/indexing.html#indexing-view-versus-copy\n",
      "  # This is added back by InteractiveShellApp.init_path()\n",
      "/Users/guido/anaconda/lib/python3.6/site-packages/ipykernel_launcher.py:12: SettingWithCopyWarning: \n",
      "A value is trying to be set on a copy of a slice from a DataFrame\n",
      "\n",
      "See the caveats in the documentation: http://pandas.pydata.org/pandas-docs/stable/indexing.html#indexing-view-versus-copy\n",
      "  if sys.path[0] == '':\n",
      "/Users/guido/anaconda/lib/python3.6/site-packages/ipykernel_launcher.py:11: SettingWithCopyWarning: \n",
      "A value is trying to be set on a copy of a slice from a DataFrame\n",
      "\n",
      "See the caveats in the documentation: http://pandas.pydata.org/pandas-docs/stable/indexing.html#indexing-view-versus-copy\n",
      "  # This is added back by InteractiveShellApp.init_path()\n",
      "/Users/guido/anaconda/lib/python3.6/site-packages/ipykernel_launcher.py:12: SettingWithCopyWarning: \n",
      "A value is trying to be set on a copy of a slice from a DataFrame\n",
      "\n",
      "See the caveats in the documentation: http://pandas.pydata.org/pandas-docs/stable/indexing.html#indexing-view-versus-copy\n",
      "  if sys.path[0] == '':\n",
      "/Users/guido/anaconda/lib/python3.6/site-packages/ipykernel_launcher.py:11: SettingWithCopyWarning: \n",
      "A value is trying to be set on a copy of a slice from a DataFrame\n",
      "\n",
      "See the caveats in the documentation: http://pandas.pydata.org/pandas-docs/stable/indexing.html#indexing-view-versus-copy\n",
      "  # This is added back by InteractiveShellApp.init_path()\n",
      "/Users/guido/anaconda/lib/python3.6/site-packages/ipykernel_launcher.py:12: SettingWithCopyWarning: \n",
      "A value is trying to be set on a copy of a slice from a DataFrame\n",
      "\n",
      "See the caveats in the documentation: http://pandas.pydata.org/pandas-docs/stable/indexing.html#indexing-view-versus-copy\n",
      "  if sys.path[0] == '':\n",
      "/Users/guido/anaconda/lib/python3.6/site-packages/ipykernel_launcher.py:11: SettingWithCopyWarning: \n",
      "A value is trying to be set on a copy of a slice from a DataFrame\n",
      "\n",
      "See the caveats in the documentation: http://pandas.pydata.org/pandas-docs/stable/indexing.html#indexing-view-versus-copy\n",
      "  # This is added back by InteractiveShellApp.init_path()\n",
      "/Users/guido/anaconda/lib/python3.6/site-packages/ipykernel_launcher.py:12: SettingWithCopyWarning: \n",
      "A value is trying to be set on a copy of a slice from a DataFrame\n",
      "\n",
      "See the caveats in the documentation: http://pandas.pydata.org/pandas-docs/stable/indexing.html#indexing-view-versus-copy\n",
      "  if sys.path[0] == '':\n",
      "/Users/guido/anaconda/lib/python3.6/site-packages/ipykernel_launcher.py:11: SettingWithCopyWarning: \n",
      "A value is trying to be set on a copy of a slice from a DataFrame\n",
      "\n",
      "See the caveats in the documentation: http://pandas.pydata.org/pandas-docs/stable/indexing.html#indexing-view-versus-copy\n",
      "  # This is added back by InteractiveShellApp.init_path()\n",
      "/Users/guido/anaconda/lib/python3.6/site-packages/ipykernel_launcher.py:12: SettingWithCopyWarning: \n",
      "A value is trying to be set on a copy of a slice from a DataFrame\n",
      "\n",
      "See the caveats in the documentation: http://pandas.pydata.org/pandas-docs/stable/indexing.html#indexing-view-versus-copy\n",
      "  if sys.path[0] == '':\n",
      "/Users/guido/anaconda/lib/python3.6/site-packages/ipykernel_launcher.py:11: SettingWithCopyWarning: \n",
      "A value is trying to be set on a copy of a slice from a DataFrame\n",
      "\n",
      "See the caveats in the documentation: http://pandas.pydata.org/pandas-docs/stable/indexing.html#indexing-view-versus-copy\n",
      "  # This is added back by InteractiveShellApp.init_path()\n",
      "/Users/guido/anaconda/lib/python3.6/site-packages/ipykernel_launcher.py:12: SettingWithCopyWarning: \n",
      "A value is trying to be set on a copy of a slice from a DataFrame\n",
      "\n",
      "See the caveats in the documentation: http://pandas.pydata.org/pandas-docs/stable/indexing.html#indexing-view-versus-copy\n",
      "  if sys.path[0] == '':\n"
     ]
    }
   ],
   "source": [
    "new_df['stop_count'] = new_df['STOP']\n",
    "new_df['stint'] = new_df['STOP']\n",
    "new_df['stop_count'][(new_df.index.get_level_values(1)==1) & (new_df['STOP']!=1)] = 0\n",
    "new_df['laps_since_pit'] = new_df.index.get_level_values('LAP')\n",
    "# new_df['stop_count'][(new_df.LAP==1) & (new_df['STOP']!=1)] = 0\n",
    "# for _num in new_df.NO.unique():\n",
    "for _num in new_df.index.get_level_values('NO').unique():\n",
    "    pits = new_df.index.get_level_values('LAP')[(new_df['d_stop'])&(new_df.index.get_level_values('NO')==_num)].values\n",
    "#     print(_num,pits)\n",
    "#     pits = new_df['LAP'].iloc[new_df['LAP'][(new_df['d_stop'])&(new_df['NO']==_num)].index]\n",
    "    new_df['stop_count'][new_df.index.get_level_values('NO')==_num] = new_df['stop_count'][new_df.index.get_level_values('NO')==_num].ffill()\n",
    "    new_df['stint'][new_df.index.get_level_values('NO')==_num] = new_df['STOP'][new_df.index.get_level_values('NO')==_num].bfill().ffill()\n",
    "    new_df['laps_since_pit'][new_df.index.get_level_values(0)==_num] = new_df['laps_since_pit'][new_df.index.get_level_values(0)==_num].apply(lambda x: reset_lap_counter(x,pits))\n",
    "#     new_df['stop_count'][new_df['NO']==_num] = new_df['stop_count'][new_df['NO']==_num].ffill()\n",
    "#     new_df['stint'][new_df['NO']==_num] = new_df['STOP'][new_df['NO']==_num].bfill().ffill()"
   ]
  },
  {
   "cell_type": "code",
   "execution_count": 569,
   "metadata": {},
   "outputs": [],
   "source": [
    "new_df.to_csv('new_df.csv')#,index=False)\n",
    "# new_df = pd.read_csv('new_df.csv')\n",
    "# new_df.set_index(['NO','LAP'], inplace=True)"
   ]
  },
  {
   "cell_type": "code",
   "execution_count": 570,
   "metadata": {},
   "outputs": [
    {
     "data": {
      "text/html": [
       "<div>\n",
       "<style scoped>\n",
       "    .dataframe tbody tr th:only-of-type {\n",
       "        vertical-align: middle;\n",
       "    }\n",
       "\n",
       "    .dataframe tbody tr th {\n",
       "        vertical-align: top;\n",
       "    }\n",
       "\n",
       "    .dataframe thead th {\n",
       "        text-align: right;\n",
       "    }\n",
       "</style>\n",
       "<table border=\"1\" class=\"dataframe\">\n",
       "  <thead>\n",
       "    <tr style=\"text-align: right;\">\n",
       "      <th></th>\n",
       "      <th></th>\n",
       "      <th>GAP</th>\n",
       "      <th>TIME</th>\n",
       "      <th>race_id</th>\n",
       "      <th>cumtime</th>\n",
       "      <th>progress</th>\n",
       "      <th>temp_lap</th>\n",
       "      <th>5</th>\n",
       "      <th>77</th>\n",
       "      <th>7</th>\n",
       "      <th>33</th>\n",
       "      <th>14</th>\n",
       "      <th>19</th>\n",
       "      <th>11</th>\n",
       "      <th>27</th>\n",
       "      <th>55</th>\n",
       "      <th>10</th>\n",
       "      <th>9</th>\n",
       "      <th>28</th>\n",
       "      <th>18</th>\n",
       "      <th>94</th>\n",
       "      <th>8</th>\n",
       "      <th>44</th>\n",
       "      <th>3</th>\n",
       "      <th>DRIVER</th>\n",
       "      <th>ENTRANT</th>\n",
       "      <th>TIME OF DAY</th>\n",
       "      <th>STOP</th>\n",
       "      <th>DURATION</th>\n",
       "      <th>TOTAL TIME</th>\n",
       "      <th>d_stop</th>\n",
       "      <th>target</th>\n",
       "      <th>laps_since_pit</th>\n",
       "      <th>stop_count</th>\n",
       "      <th>stint</th>\n",
       "    </tr>\n",
       "    <tr>\n",
       "      <th>NO</th>\n",
       "      <th>LAP</th>\n",
       "      <th></th>\n",
       "      <th></th>\n",
       "      <th></th>\n",
       "      <th></th>\n",
       "      <th></th>\n",
       "      <th></th>\n",
       "      <th></th>\n",
       "      <th></th>\n",
       "      <th></th>\n",
       "      <th></th>\n",
       "      <th></th>\n",
       "      <th></th>\n",
       "      <th></th>\n",
       "      <th></th>\n",
       "      <th></th>\n",
       "      <th></th>\n",
       "      <th></th>\n",
       "      <th></th>\n",
       "      <th></th>\n",
       "      <th></th>\n",
       "      <th></th>\n",
       "      <th></th>\n",
       "      <th></th>\n",
       "      <th></th>\n",
       "      <th></th>\n",
       "      <th></th>\n",
       "      <th></th>\n",
       "      <th></th>\n",
       "      <th></th>\n",
       "      <th></th>\n",
       "      <th></th>\n",
       "      <th></th>\n",
       "      <th></th>\n",
       "      <th></th>\n",
       "    </tr>\n",
       "  </thead>\n",
       "  <tbody>\n",
       "    <tr>\n",
       "      <th>5</th>\n",
       "      <th>1</th>\n",
       "      <td>PIT</td>\n",
       "      <td>112.494</td>\n",
       "      <td>25.0</td>\n",
       "      <td>112.494</td>\n",
       "      <td>0.014286</td>\n",
       "      <td>1.0</td>\n",
       "      <td>0.000</td>\n",
       "      <td>-1.166</td>\n",
       "      <td>-3.120</td>\n",
       "      <td>-4.081</td>\n",
       "      <td>-5.875</td>\n",
       "      <td>-6.993</td>\n",
       "      <td>-8.639</td>\n",
       "      <td>-10.216</td>\n",
       "      <td>-11.564</td>\n",
       "      <td>-13.566</td>\n",
       "      <td>-16.128</td>\n",
       "      <td>-17.211</td>\n",
       "      <td>-18.451</td>\n",
       "      <td>-19.209</td>\n",
       "      <td>-20.329</td>\n",
       "      <td>-22.434</td>\n",
       "      <td>-23.652</td>\n",
       "      <td>S. VETTEL</td>\n",
       "      <td>Scuderia Ferrari</td>\n",
       "      <td>14:04:42</td>\n",
       "      <td>1.0</td>\n",
       "      <td>19.097</td>\n",
       "      <td>19.097</td>\n",
       "      <td>True</td>\n",
       "      <td>NaN</td>\n",
       "      <td>1</td>\n",
       "      <td>1.0</td>\n",
       "      <td>1.0</td>\n",
       "    </tr>\n",
       "    <tr>\n",
       "      <th>77</th>\n",
       "      <th>1</th>\n",
       "      <td>PIT</td>\n",
       "      <td>113.660</td>\n",
       "      <td>25.0</td>\n",
       "      <td>113.660</td>\n",
       "      <td>0.014286</td>\n",
       "      <td>1.0</td>\n",
       "      <td>1.166</td>\n",
       "      <td>0.000</td>\n",
       "      <td>-1.954</td>\n",
       "      <td>-2.915</td>\n",
       "      <td>-4.709</td>\n",
       "      <td>-5.827</td>\n",
       "      <td>-7.473</td>\n",
       "      <td>-9.050</td>\n",
       "      <td>-10.398</td>\n",
       "      <td>-12.400</td>\n",
       "      <td>-14.962</td>\n",
       "      <td>-16.045</td>\n",
       "      <td>-17.285</td>\n",
       "      <td>-18.043</td>\n",
       "      <td>-19.163</td>\n",
       "      <td>-21.268</td>\n",
       "      <td>-22.486</td>\n",
       "      <td>V. BOTTAS</td>\n",
       "      <td>Mercedes AMG Petronas F1 Team</td>\n",
       "      <td>14:04:43</td>\n",
       "      <td>1.0</td>\n",
       "      <td>18.717</td>\n",
       "      <td>18.717</td>\n",
       "      <td>True</td>\n",
       "      <td>NaN</td>\n",
       "      <td>1</td>\n",
       "      <td>1.0</td>\n",
       "      <td>1.0</td>\n",
       "    </tr>\n",
       "    <tr>\n",
       "      <th>7</th>\n",
       "      <th>1</th>\n",
       "      <td>PIT</td>\n",
       "      <td>115.614</td>\n",
       "      <td>25.0</td>\n",
       "      <td>115.614</td>\n",
       "      <td>0.014286</td>\n",
       "      <td>1.0</td>\n",
       "      <td>3.120</td>\n",
       "      <td>1.954</td>\n",
       "      <td>0.000</td>\n",
       "      <td>-0.961</td>\n",
       "      <td>-2.755</td>\n",
       "      <td>-3.873</td>\n",
       "      <td>-5.519</td>\n",
       "      <td>-7.096</td>\n",
       "      <td>-8.444</td>\n",
       "      <td>-10.446</td>\n",
       "      <td>-13.008</td>\n",
       "      <td>-14.091</td>\n",
       "      <td>-15.331</td>\n",
       "      <td>-16.089</td>\n",
       "      <td>-17.209</td>\n",
       "      <td>-19.314</td>\n",
       "      <td>-20.532</td>\n",
       "      <td>K. RAIKKONEN</td>\n",
       "      <td>Scuderia Ferrari</td>\n",
       "      <td>14:04:45</td>\n",
       "      <td>1.0</td>\n",
       "      <td>19.433</td>\n",
       "      <td>19.433</td>\n",
       "      <td>True</td>\n",
       "      <td>NaN</td>\n",
       "      <td>1</td>\n",
       "      <td>1.0</td>\n",
       "      <td>1.0</td>\n",
       "    </tr>\n",
       "  </tbody>\n",
       "</table>\n",
       "</div>"
      ],
      "text/plain": [
       "        GAP     TIME  race_id  cumtime  progress  temp_lap      5     77  \\\n",
       "NO LAP                                                                     \n",
       "5  1    PIT  112.494     25.0  112.494  0.014286       1.0  0.000 -1.166   \n",
       "77 1    PIT  113.660     25.0  113.660  0.014286       1.0  1.166  0.000   \n",
       "7  1    PIT  115.614     25.0  115.614  0.014286       1.0  3.120  1.954   \n",
       "\n",
       "            7     33     14     19     11      27      55      10       9  \\\n",
       "NO LAP                                                                      \n",
       "5  1   -3.120 -4.081 -5.875 -6.993 -8.639 -10.216 -11.564 -13.566 -16.128   \n",
       "77 1   -1.954 -2.915 -4.709 -5.827 -7.473  -9.050 -10.398 -12.400 -14.962   \n",
       "7  1    0.000 -0.961 -2.755 -3.873 -5.519  -7.096  -8.444 -10.446 -13.008   \n",
       "\n",
       "            28      18      94       8      44       3        DRIVER  \\\n",
       "NO LAP                                                                 \n",
       "5  1   -17.211 -18.451 -19.209 -20.329 -22.434 -23.652     S. VETTEL   \n",
       "77 1   -16.045 -17.285 -18.043 -19.163 -21.268 -22.486     V. BOTTAS   \n",
       "7  1   -14.091 -15.331 -16.089 -17.209 -19.314 -20.532  K. RAIKKONEN   \n",
       "\n",
       "                              ENTRANT TIME OF DAY  STOP  DURATION TOTAL TIME  \\\n",
       "NO LAP                                                                         \n",
       "5  1                 Scuderia Ferrari    14:04:42   1.0    19.097     19.097   \n",
       "77 1    Mercedes AMG Petronas F1 Team    14:04:43   1.0    18.717     18.717   \n",
       "7  1                 Scuderia Ferrari    14:04:45   1.0    19.433     19.433   \n",
       "\n",
       "        d_stop  target  laps_since_pit  stop_count  stint  \n",
       "NO LAP                                                     \n",
       "5  1      True     NaN               1         1.0    1.0  \n",
       "77 1      True     NaN               1         1.0    1.0  \n",
       "7  1      True     NaN               1         1.0    1.0  "
      ]
     },
     "execution_count": 570,
     "metadata": {},
     "output_type": "execute_result"
    }
   ],
   "source": [
    "new_df.head(3)"
   ]
  },
  {
   "cell_type": "code",
   "execution_count": null,
   "metadata": {},
   "outputs": [],
   "source": []
  }
 ],
 "metadata": {
  "kernelspec": {
   "display_name": "Python 3",
   "language": "python",
   "name": "python3"
  },
  "language_info": {
   "codemirror_mode": {
    "name": "ipython",
    "version": 3
   },
   "file_extension": ".py",
   "mimetype": "text/x-python",
   "name": "python",
   "nbconvert_exporter": "python",
   "pygments_lexer": "ipython3",
   "version": "3.6.6"
  }
 },
 "nbformat": 4,
 "nbformat_minor": 2
}
