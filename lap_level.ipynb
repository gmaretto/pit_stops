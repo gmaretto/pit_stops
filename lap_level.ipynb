{
 "cells": [
  {
   "cell_type": "code",
   "execution_count": 206,
   "metadata": {},
   "outputs": [],
   "source": [
    "import pandas as pd\n",
    "import os\n",
    "import numpy as np\n",
    "import re\n",
    "import datetime"
   ]
  },
  {
   "cell_type": "code",
   "execution_count": 207,
   "metadata": {},
   "outputs": [],
   "source": [
    "ref_df = pd.read_csv('which_race.csv', header=0)\n",
    "csv_list = os.listdir('clean_frames')\n",
    "counter = 34"
   ]
  },
  {
   "cell_type": "code",
   "execution_count": 241,
   "metadata": {},
   "outputs": [],
   "source": [
    "d2 = {}\n",
    "d3 = {}\n",
    "for race_id in range(counter):\n",
    "    d2['race_df_'+str(race_id)]=pd.read_csv('clean_frames/race_df_'+str(race_id)+'.csv')\n",
    "    d3['pit_stop_df_'+str(race_id)]=pd.read_csv('clean_frames/pit_stop_df_'+str(race_id)+'.csv')"
   ]
  },
  {
   "cell_type": "code",
   "execution_count": 242,
   "metadata": {},
   "outputs": [],
   "source": [
    "race_df = d2['race_df_0']\n",
    "# dfone = pd.concat(d2.values())\n",
    "pit_stop_df = d3['pit_stop_df_0']"
   ]
  },
  {
   "cell_type": "code",
   "execution_count": 243,
   "metadata": {},
   "outputs": [],
   "source": [
    "race_df['TIME'] = race_df['TIME'].apply(lambda x: int(x.split(':')[0])*60 + float(x.split(':')[1]))"
   ]
  },
  {
   "cell_type": "code",
   "execution_count": 244,
   "metadata": {},
   "outputs": [],
   "source": [
    "race_df['cumtime']=race_df[['TIME','NO']].groupby('NO').cumsum(skipna=True)"
   ]
  },
  {
   "cell_type": "code",
   "execution_count": 248,
   "metadata": {},
   "outputs": [
    {
     "data": {
      "text/plain": [
       "Index(['NO', 'DRIVER', 'ENTRANT', 'LAP', 'TIME OF DAY', 'STOP', 'DURATION',\n",
       "       'TOTAL TIME'],\n",
       "      dtype='object')"
      ]
     },
     "execution_count": 248,
     "metadata": {},
     "output_type": "execute_result"
    }
   ],
   "source": [
    "pit_stop_df.columns"
   ]
  },
  {
   "cell_type": "code",
   "execution_count": 231,
   "metadata": {},
   "outputs": [],
   "source": [
    "race_df.drop(columns = ['Unnamed: 0'], inplace=True)"
   ]
  },
  {
   "cell_type": "code",
   "execution_count": 247,
   "metadata": {},
   "outputs": [],
   "source": [
    "pit_stop_df.drop(columns = ['Unnamed: 0','Unnamed: 0.1','Unnamed: 6'], inplace=True)"
   ]
  },
  {
   "cell_type": "code",
   "execution_count": 249,
   "metadata": {},
   "outputs": [],
   "source": [
    "def distances(x):\n",
    "    return x.values[:,None]-x.values"
   ]
  },
  {
   "cell_type": "code",
   "execution_count": 250,
   "metadata": {},
   "outputs": [],
   "source": [
    "# pita_df = pd.DataFrame(distances(race_df['TIME'][race_df['LAP']==1]),columns=list(race_df['NO'][race_df['LAP']==1].values),index = race_df['NO'][race_df['LAP']==1].values)\n",
    "\n",
    "# pita_df['LAP']=1\n",
    "\n",
    "# pita_df.reset_index(level=0, inplace=True)\n",
    "\n",
    "# pita_df.rename({'index':'NO'},axis='columns',inplace=True)"
   ]
  },
  {
   "cell_type": "code",
   "execution_count": 251,
   "metadata": {},
   "outputs": [],
   "source": [
    "# df1 = race_df.merge(pita_df, on=['LAP','NO'], how=\"outer\")"
   ]
  },
  {
   "cell_type": "code",
   "execution_count": 252,
   "metadata": {},
   "outputs": [],
   "source": [
    "# pita_df2 = pd.DataFrame(distances(race_df['TIME'][race_df['LAP']==2]),columns=list(race_df['NO'][race_df['LAP']==2].values),index = race_df['NO'][race_df['LAP']==2].values)\n",
    "\n",
    "# pita_df2['LAP'] = 2\n",
    "\n",
    "# pita_df2.reset_index(level=0, inplace=True)\n",
    "\n",
    "# pita_df2.rename({'index':'NO'},axis='columns',inplace=True)"
   ]
  },
  {
   "cell_type": "code",
   "execution_count": 253,
   "metadata": {},
   "outputs": [],
   "source": [
    "# pit_stop_df.set_index(['NO','LAP'], inplace=True)\n",
    "# new_df = race_df.merge(pit_stop_df, on = ['NO','LAP'], how ='outer')"
   ]
  },
  {
   "cell_type": "code",
   "execution_count": 254,
   "metadata": {},
   "outputs": [],
   "source": [
    "last_lap = max(race_df['LAP'])"
   ]
  },
  {
   "cell_type": "code",
   "execution_count": 257,
   "metadata": {},
   "outputs": [],
   "source": [
    "d_gaps={}\n",
    "for i in range(0,last_lap):\n",
    "    lap = i+1\n",
    "    gaps_df = pd.DataFrame(distances(race_df['TIME'][race_df['LAP']==lap]),columns=list(race_df['NO'][race_df['LAP']==lap ].values),index = race_df['NO'][race_df['LAP']==lap].values)\n",
    "\n",
    "    gaps_df['LAP'] = lap\n",
    "\n",
    "    gaps_df.reset_index(level=0, inplace=True)\n",
    "\n",
    "    gaps_df.rename({'index':'NO'},axis='columns',inplace=True)  \n",
    "\n",
    "#     gaps_df.set_index(['NO','LAP'], inplace=True)\n",
    "    \n",
    "    d_gaps['gaps_df_lap_'+str(lap)] = gaps_df\n",
    "    \n",
    "#     gaps_df.drop(columns = ['Unnamed: 0'], inplace=True)"
   ]
  },
  {
   "cell_type": "code",
   "execution_count": 258,
   "metadata": {},
   "outputs": [],
   "source": [
    "race_df.set_index(['NO','LAP'], inplace=True)\n",
    "for i in range(0,last_lap):\n",
    "    lap = i+1\n",
    "    gaps_df = d_gaps['gaps_df_lap_'+str(lap)]    \n",
    "    gaps_df.set_index(['NO','LAP'], inplace=True)\n",
    "    if lap==1:\n",
    "        race_df = race_df.merge(gaps_df, on=['NO','LAP'], how=\"outer\")\n",
    "    else:\n",
    "        race_df.update(gaps_df, join='left')#, overwrite=True, filter_func=None, raise_conflict=False)"
   ]
  },
  {
   "cell_type": "code",
   "execution_count": null,
   "metadata": {},
   "outputs": [],
   "source": [
    "race_df.drop(columns = ['Unnamed: 0'], inplace=True)"
   ]
  },
  {
   "cell_type": "code",
   "execution_count": 261,
   "metadata": {},
   "outputs": [
    {
     "data": {
      "text/plain": [
       "Index([6, 22, 44, 5, 12, 3, 19, 8, 27, 77, 55, 33, 30, 20, 94, 11], dtype='object')"
      ]
     },
     "execution_count": 261,
     "metadata": {},
     "output_type": "execute_result"
    }
   ],
   "source": [
    "gaps_df.columns#.drop(columns = ['Unnamed: 0'], inplace=True)"
   ]
  },
  {
   "cell_type": "code",
   "execution_count": 651,
   "metadata": {},
   "outputs": [],
   "source": [
    "new_df = race_df.merge(pit_stop_df, on = ['NO','LAP'], how ='outer')\n",
    "# new_df.drop(columns = ['Unnamed: 0','Unnamed: 0'], inplace=True)"
   ]
  },
  {
   "cell_type": "code",
   "execution_count": 652,
   "metadata": {},
   "outputs": [],
   "source": [
    "new_df.set_index(['NO','LAP'], inplace=True)"
   ]
  },
  {
   "cell_type": "code",
   "execution_count": 653,
   "metadata": {},
   "outputs": [
    {
     "name": "stderr",
     "output_type": "stream",
     "text": [
      "/Users/guido/anaconda/lib/python3.6/site-packages/ipykernel_launcher.py:4: SettingWithCopyWarning: \n",
      "A value is trying to be set on a copy of a slice from a DataFrame\n",
      "\n",
      "See the caveats in the documentation: http://pandas.pydata.org/pandas-docs/stable/indexing.html#indexing-view-versus-copy\n",
      "  after removing the cwd from sys.path.\n"
     ]
    }
   ],
   "source": [
    "# new_df['stop_count'] = np.nan\n",
    "new_df['stop_count'] = new_df['STOP']\n",
    "###filling the first lap stop_count0s\n",
    "new_df['stop_count'][(new_df.index.get_level_values(1)==1) & (new_df['STOP']!=1)] = 0"
   ]
  },
  {
   "cell_type": "code",
   "execution_count": 658,
   "metadata": {},
   "outputs": [],
   "source": [
    "x = pd.concat([new_df['stop_count'][new_df.index.get_level_values(0)==19].unstack(0).ffill().stack(0)],axis=1).swaplevel();\n",
    "x.columns = ['stop_count'];\n",
    "new_df.update(x,join='left');\n",
    "# new_df['stop_count'][new_df.index.get_level_values(0)==19]"
   ]
  },
  {
   "cell_type": "code",
   "execution_count": 484,
   "metadata": {},
   "outputs": [],
   "source": [
    "# new_df['STOP'].update(new_df['STOP'].groupby(level=0).ffill())"
   ]
  },
  {
   "cell_type": "code",
   "execution_count": 494,
   "metadata": {},
   "outputs": [],
   "source": [
    "# new_df.update(new_df.groupby(level=0).ffill())\n",
    "# df = df.groupby(level='group').bfill()\n",
    "# df = df.unstack(0).bfill().stack().swaplevel(0, 1).reindex_like(df)\n",
    "# # Column specific\n",
    "# df.Value = df.groupby(level=0).Value.bfill()"
   ]
  },
  {
   "cell_type": "code",
   "execution_count": 461,
   "metadata": {},
   "outputs": [],
   "source": [
    "# new_df['d_stop']=0\n",
    "# new_df['d_stop'][new_df['STOP']>0]=1"
   ]
  },
  {
   "cell_type": "code",
   "execution_count": 656,
   "metadata": {},
   "outputs": [],
   "source": [
    "# for _n in new_df.index.get_level_values(0).unique():\n",
    "#     print(new_df[new_df.index.get_level_values(0)==_n]['STOP'])"
   ]
  },
  {
   "cell_type": "code",
   "execution_count": 302,
   "metadata": {},
   "outputs": [],
   "source": [
    "# for x in d_gaps.keys():\n",
    "#      print(d_gaps[x].shape)\n",
    "# d_gaps['gaps_df_lap_1'].NO.apply(type)\n",
    "# d_gaps['gaps_df_lap_1'].LAP.apply(type)"
   ]
  },
  {
   "cell_type": "code",
   "execution_count": null,
   "metadata": {},
   "outputs": [],
   "source": [
    "# how do i cycle through laps without loop? can i vectorize?\n",
    "\n",
    "# how do i impute nan's for running and RF? choose a time which should not matter based on intuition\n",
    "\n",
    "# exclude teammate from traffic when feature engineering\n",
    "\n",
    "# tuesday it is 3 minutes (8-10 quick slides)\n",
    "\n",
    "# wednesday science fair \n",
    "'''there will be a screen on a table\n",
    "CONTEXT talk about the relevance of the problem 10%\n",
    "PROCESS general strokes of what the model and why i chose to do it like that 40%+\n",
    "RESULTS results = metrics (predictive power, importance, inference?) 40%+\n",
    "NEXT STEPS 10%\n",
    " '''\n",
    "\n"
   ]
  }
 ],
 "metadata": {
  "kernelspec": {
   "display_name": "Python 3",
   "language": "python",
   "name": "python3"
  },
  "language_info": {
   "codemirror_mode": {
    "name": "ipython",
    "version": 3
   },
   "file_extension": ".py",
   "mimetype": "text/x-python",
   "name": "python",
   "nbconvert_exporter": "python",
   "pygments_lexer": "ipython3",
   "version": "3.6.6"
  }
 },
 "nbformat": 4,
 "nbformat_minor": 2
}
