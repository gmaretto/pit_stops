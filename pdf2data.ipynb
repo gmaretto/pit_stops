{
 "cells": [
  {
   "cell_type": "code",
   "execution_count": 298,
   "metadata": {},
   "outputs": [
    {
     "data": {
      "text/plain": [
       "'this script takes a \"history\" frames reshapes it and merges it with pit stop\\n\\nthe actual data will be stored in \\'raw_data\\' not in \\'2016race0\\'\\n\\nthe race_id (which is currently hard coded to 0) \\nwill be used with the ref_df dataframe to link it to race info (year,progressive number,track)\\n\\n'"
      ]
     },
     "execution_count": 298,
     "metadata": {},
     "output_type": "execute_result"
    }
   ],
   "source": [
    "'''this script takes a \"history\" frames reshapes it and merges it with pit stop\n",
    "\n",
    "the actual data will be stored in 'raw_data' not in '2016race0'\n",
    "\n",
    "the race_id (which is currently hard coded to 0) \n",
    "will be used with the ref_df dataframe to link it to race info (year,progressive number,track)\n",
    "\n",
    "'''"
   ]
  },
  {
   "cell_type": "code",
   "execution_count": 581,
   "metadata": {},
   "outputs": [],
   "source": [
    "#import tabula\n",
    "import pandas as pd\n",
    "import os\n",
    "import numpy as np\n",
    "import re\n",
    "import datetime"
   ]
  },
  {
   "cell_type": "code",
   "execution_count": 566,
   "metadata": {},
   "outputs": [],
   "source": [
    "def find_divisorz(x): \n",
    "    if pd.notna(x):\n",
    "        if 'NO' in x:\n",
    "            #print(x,'is a special row')\n",
    "            return True\n",
    "        else:\n",
    "            return False\n",
    "    else: return True\n",
    "\n",
    "\n",
    "def split_PIT(x,starters):\n",
    "#     print(type(x['NO']))\n",
    "    if x['NO'] not in starters:\n",
    "        print('x non in starters')\n",
    "        if pd.notna(x['NO']):\n",
    "            print('x not null')\n",
    "#        if x['NO'].notnull:\n",
    "            if x['NO'][:-4] in starters:\n",
    "                print('correcting PIT')\n",
    "                return pd.Series([x['NO'][:-4],'PIT',x['TIME'],x['LAP']],index = [\"NO\",\"GAP\",\"TIME\",\"LAP\"])\n",
    "            elif x['NO'][:-6] in starters:\n",
    "                print('correcting 1 LAP')\n",
    "                return pd.Series([x['NO'][:-6],x['NO'][-5:],x['TIME'],x['LAP']],index = [\"NO\",\"GAP\",\"TIME\",\"LAP\"])                \n",
    "            else:\n",
    "                print('trashing it')\n",
    "                return pd.Series([None, None, None, None],index = [\"NO\",\"GAP\",\"TIME\",\"LAP\"])\n",
    "        else:\n",
    "            print('it is a nan')\n",
    "            return pd.Series([None, None, None, None],index = [\"NO\",\"GAP\",\"TIME\",\"LAP\"])\n",
    "    else:\n",
    "        print('proper')\n",
    "        return pd.Series(x,index = [\"NO\",\"GAP\",\"TIME\",\"LAP\"])\n",
    "        #return [x['NO'],x['GAP'],x['TIME'],x['LAP']]\n",
    "\n",
    "def split_TIMES(x,starters):\n",
    "    #print(x)\n",
    "    if x['NO'] not in starters:\n",
    "#         print('trashing it')\n",
    "        return pd.Series([None, None, None, None],index = [\"NO\",\"GAP\",\"TIME\",\"LAP\"])\n",
    "    elif pd.isna(x['GAP']):\n",
    "#         print('it is (hopefully) the leader')        \n",
    "#         print(type(x),type(pd.Series([x['NO'],0,x['TIME'],x['LAP']])))\n",
    "#         print(len(x),len(pd.Series([x['NO'],0,x['TIME'],x['LAP']])))\n",
    "        return pd.Series([x['NO'],0,x['TIME'],x['LAP']],index = [\"NO\",\"GAP\",\"TIME\",\"LAP\"])\n",
    "    elif (' ' in str(x['GAP'])) & ('LAP' not in str(x['GAP'])):\n",
    "#         print('correcting it (2)')\n",
    "        timez = x['GAP'].split()\n",
    "        return pd.Series([x['NO'],timez[0],timez[1],x['LAP']],index = [\"NO\",\"GAP\",\"TIME\",\"LAP\"])\n",
    "    elif pd.isna(x['TIME']):\n",
    "#         print('it is a nan')        \n",
    "        return pd.Series([x['NO'],0,x['GAP'],x['LAP']],index = [\"NO\",\"GAP\",\"TIME\",\"LAP\"])\n",
    "    else:\n",
    "#         print('proper')\n",
    "        return x"
   ]
  },
  {
   "cell_type": "code",
   "execution_count": 567,
   "metadata": {},
   "outputs": [],
   "source": [
    "#df = history_chart_2_df\n",
    "# d = {}\n",
    "# d['df'] = pd.read_csv('2016race0/history_chart_2_df.csv')\n",
    "# df = pd.read_csv('2016race0/history_chart_2_df.csv')\n",
    "df = pd.read_csv('race_frames/history_chart_8_df.csv')\n",
    "# d['pit_stop_df'] = pd.read_csv('2016race0/pit_stop_summary_6_df.csv')\n",
    "#pit_stop_df = pd.read_csv('2016race0/pit_stop_summary_6_df.csv')\n",
    "pit_stop_df = pd.read_csv('race_frames/pit_stops_8_df.csv')"
   ]
  },
  {
   "cell_type": "code",
   "execution_count": 568,
   "metadata": {},
   "outputs": [],
   "source": [
    "df.columns=['Unnamed: 0', 'NO.0', 'GAP.0', 'TIME.0', 'NO.1', 'GAP.1', 'TIME.1', 'NO.2',\n",
    "       'GAP.2', 'TIME.2', 'NO.3', 'GAP.3', 'TIME.3', 'NO.4', 'GAP.4',\n",
    "       'TIME.4']\n",
    "# df.rename(columns = {'NO':'NO.0','GAP':'GAP.0','TIME':'TIME.0'},inplace=True)"
   ]
  },
  {
   "cell_type": "code",
   "execution_count": 569,
   "metadata": {},
   "outputs": [],
   "source": [
    "divisorz = df.loc[df['NO.0'].apply(find_divisorz)].index;\n",
    "divisorz;"
   ]
  },
  {
   "cell_type": "code",
   "execution_count": 570,
   "metadata": {},
   "outputs": [],
   "source": [
    "# slicing the history dataframe horizontally\n",
    "previous_divisor = -1\n",
    "d={}\n",
    "for _id,_val in enumerate(divisorz):\n",
    "#     print (_id,_val)\n",
    "    d['df_'+str(_id)] = df.loc[previous_divisor+1:_val-1]\n",
    "    previous_divisor = _val\n",
    "    div_counter = _id\n",
    "last_id = div_counter + 1\n",
    "d['df_'+str(last_id)] = df.loc[previous_divisor+1:]"
   ]
  },
  {
   "cell_type": "code",
   "execution_count": 571,
   "metadata": {},
   "outputs": [],
   "source": [
    "# d1['df_lap_'+str(1)] = d['df_'+str(1)][['NO.'+str(0),'GAP.'+str(0),'TIME.'+str(0)]]\n",
    "# d1['df_lap_'+str(1)]['lap'] = str(1)\n",
    "# # uniforming column names\n",
    "# #             exec('df_lap_'+str(1)+'.columns = [\"NO\",\"GAP\",\"TIME\",\"LAP\"]')\n",
    "# d1['df_lap_'+str(1)].columns = [\"NO\",\"GAP\",\"TIME\",\"LAP\"]\n",
    "# # putting 0 were 'GAP' is none (!!WORKAROUND!!the first row of a frame appear to behave differently than \n",
    "# # other rows resulting in adding new columns to the data in an incompatible way. \n",
    "# # considering a bug report to pandas developers\n",
    "# #             exec('df_lap_'+str(1)+'[\"GAP\"].fillna(0,inplace=True)')\n",
    "# d1['df_lap_'+str(1)][\"GAP\"].fillna(0,inplace=True)\n",
    "# # removing empty rows (where racing number is empty)\n",
    "# #             exec('df_lap_'+str(1)+' = df_lap_'+str(1)+'[df_lap_'+str(1)+'[\"NO\"].notnull()]' )\n",
    "# d1['df_lap_'+str(1)] = d1['df_lap_'+str(1)][d1['df_lap_'+str(1)][\"NO\"].notnull()]\n",
    "# # solving the problem of 'PIT' value being collected in the 'NO' field\n",
    "# #             exec('df_lap_'+str(1)+' = df_lap_'+str(1)+'.apply(split_PIT, axis =1)')\n",
    "# #             exec(d1['df_lap_'+str(1)]+' = df_lap_'+str(1)+'.apply(split_PIT, axis =1)')\n",
    "# # d1['df_lap_'+str(1)] = d1['df_lap_'+str(1)].transform(split_PIT, axis =1)\n",
    "# # #             # putting back the right names\n",
    "# # # #             exec('df_lap_'+str(1)+'.columns = [\"NO\",\"GAP\",\"TIME\",\"LAP\"]')\n",
    "# # #             d1['df_lap_'+str(1)].columns = [\"NO\",\"GAP\",\"TIME\",\"LAP\"]\n",
    "# # #             # removing empty rows (where racing number is empty).\n",
    "# # # #             exec('df_lap_'+str(1)+' = df_lap_'+str(1)+'[df_lap_'+str(1)+'[\"NO\"].notnull()]' )            \n",
    "# # d1['df_lap_'+str(1)] = d1['df_lap_'+str(1)][d1['df_lap_'+str(1)][\"NO\"].notnull()]\n",
    "# # #             # solving the problem of 'NO' and 'GAP' fields merging\n",
    "# # # #             exec('df_lap_'+str(1)+' = df_lap_'+str(1)+'.apply(split_TIMES, axis =1)')\n",
    "# # d1['df_lap_'+str(1)] = d1['df_lap_'+str(1)].apply(split_TIMES, axis =1)\n",
    "# # #             # putting back the right names\n",
    "# # # #             exec('df_lap_'+str(1)+'.columns = [\"NO\",\"GAP\",\"TIME\",\"LAP\"]')\n",
    "# # d1['df_lap_'+str(1)].columns = [\"NO\",\"GAP\",\"TIME\",\"LAP\"]\n",
    "# # #             # removing empty rows (where racing number is empty).\n",
    "# # # #             exec('df_lap_'+str(1)+' = df_lap_'+str(1)+'[df_lap_'+str(1)+'[\"NO\"].notnull()]' )            \n",
    "# # d1['df_lap_'+str(1)] = d1['df_lap_'+str(1)][d1['df_lap_'+str(1)][\"NO\"].notnull()]"
   ]
  },
  {
   "cell_type": "code",
   "execution_count": 572,
   "metadata": {},
   "outputs": [],
   "source": [
    "# d1['df_lap_1']"
   ]
  },
  {
   "cell_type": "code",
   "execution_count": 573,
   "metadata": {},
   "outputs": [],
   "source": [
    "starters = d['df_1']['NO.0'].unique()"
   ]
  },
  {
   "cell_type": "code",
   "execution_count": 578,
   "metadata": {},
   "outputs": [],
   "source": [
    "d1={}\n",
    "for j in range(len(divisorz)+1):\n",
    "#     print('j is ', j)\n",
    "    for i in [0,1,2,3,4]:\n",
    "#         print('i is ', i)\n",
    "#         print('doing lap',j*5+(i+1))\n",
    "        if j*5+(i+1):\n",
    "            # Take the horizontal slices and slice them vertically into laps \n",
    "            d1['df_lap_'+str(j*5+(i+1))] = d['df_'+str(j)][['NO.'+str(i),'GAP.'+str(i),'TIME.'+str(i)]]\n",
    "            # add lap feature \n",
    "            d1['df_lap_'+str(j*5+(i+1))]['lap'] = str(j*5+(i+1))\n",
    "            # uniforming column names\n",
    "            d1['df_lap_'+str(j*5+(i+1))].columns = [\"NO\",\"GAP\",\"TIME\",\"LAP\"]\n",
    "            # putting 0 were 'GAP' is none (!!WORKAROUND!!the first row of a frame appear to behave differently than \n",
    "            # other rows resulting in adding new columns to the data in an incompatible way. \n",
    "            # considering a bug report to pandas developers\n",
    "            d1['df_lap_'+str(j*5+(i+1))][\"GAP\"].fillna(0,inplace=True)\n",
    "            # removing empty rows (where racing number is empty)\n",
    "            d1['df_lap_'+str(j*5+(i+1))] = d1['df_lap_'+str(j*5+(i+1))][d1['df_lap_'+str(j*5+(i+1))][\"NO\"].notnull()]\n",
    "            # solving the problem of 'PIT' value being collected in the 'NO' field\n",
    "#             d1['df_lap_'+str(j*5+(i+1))] = d1['df_lap_'+str(j*5+(i+1))].transform(lambda x: split_NO(x,starters), axis =1)\n",
    "            d1['df_lap_'+str(j*5+(i+1))] = d1['df_lap_'+str(j*5+(i+1))].transform(lambda x: split_PIT(x,starters_2016), axis =1)\n",
    "            # putting back the right names\n",
    "            d1['df_lap_'+str(j*5+(i+1))].columns = [\"NO\",\"GAP\",\"TIME\",\"LAP\"]\n",
    "#             # removing empty rows (where racing number is empty).\n",
    "            d1['df_lap_'+str(j*5+(i+1))] = d1['df_lap_'+str(j*5+(i+1))][d1['df_lap_'+str(j*5+(i+1))][\"NO\"].notnull()]\n",
    "#             # solving the problem of 'NO' and 'GAP' fields merging\n",
    "            d1['df_lap_'+str(j*5+(i+1))] = d1['df_lap_'+str(j*5+(i+1))].transform(lambda x: split_TIMES(x,starters_2016), axis =1)\n",
    "#             # putting back the right names\n",
    "            d1['df_lap_'+str(j*5+(i+1))].columns = [\"NO\",\"GAP\",\"TIME\",\"LAP\"]\n",
    "#             # removing empty rows (where racing number is empty).\n",
    "            d1['df_lap_'+str(j*5+(i+1))] = d1['df_lap_'+str(j*5+(i+1))][d1['df_lap_'+str(j*5+(i+1))][\"NO\"].notnull()]"
   ]
  },
  {
   "cell_type": "code",
   "execution_count": 575,
   "metadata": {},
   "outputs": [],
   "source": [
    "laps_dfs=[]\n",
    "for j in range(len(divisorz)+1):\n",
    "    for i in [0,1,2,3,4]:\n",
    "        laps_dfs.append(d1['df_lap_'+str(j*5+(i+1))])"
   ]
  },
  {
   "cell_type": "code",
   "execution_count": 576,
   "metadata": {},
   "outputs": [],
   "source": [
    "race_df = pd.concat(laps_dfs,ignore_index=True)\n",
    "\n",
    "race_df['race_id'] = 0\n",
    "\n",
    "race_df.drop(race_df.index[race_df['NO'].isna()],axis=0, inplace=True)\n",
    "\n",
    "race_df['NO'] = race_df['NO'].astype('int64')\n",
    "\n",
    "race_df['LAP'] = race_df['LAP'].astype('int64')\n",
    "\n",
    "#race_df['GAP'].fillna(0,inplace=True)"
   ]
  },
  {
   "cell_type": "code",
   "execution_count": null,
   "metadata": {},
   "outputs": [],
   "source": [
    "###checking times\n",
    "_mask = race_df['TIME'].apply(check_times)#.values[0]#.split(' ')[0:2]\n",
    "###correcting only problem\n",
    "race_df['TIME'][_mask] = '2:11.365'\n",
    "race_df['GAP'][_mask] = '1 LAP'"
   ]
  },
  {
   "cell_type": "code",
   "execution_count": 315,
   "metadata": {},
   "outputs": [],
   "source": [
    "starters = starters[pd.notna(starters)].astype('int64')\n",
    "finishers = race_df[race_df['LAP'] == max(race_df['LAP'])]['NO'].unique()\n",
    "finishers = finishers[pd.notna(finishers)]"
   ]
  },
  {
   "cell_type": "code",
   "execution_count": 316,
   "metadata": {},
   "outputs": [],
   "source": [
    "#pit_stop_df = pit_stop_summary_6_df\n",
    "\n",
    "pit_stop_df = pit_stop_df[pit_stop_df['NO']!='NO']\n",
    "\n",
    "pit_stop_df.rename(columns = {'S  T  OP':'STOP'},inplace=True)\n",
    "\n",
    "pit_stop_df['NO'] = pit_stop_df['NO'].astype('int64')\n",
    "\n",
    "pit_stop_df['LAP'] = pit_stop_df['LAP'].astype('int64')"
   ]
  },
  {
   "cell_type": "code",
   "execution_count": 317,
   "metadata": {},
   "outputs": [],
   "source": [
    "# new_df = race_df.merge(pit_stop_df, on = ['NO','LAP'], how ='outer')\n",
    "# new_df.drop(columns = ['Unnamed: 0','Unnamed: 6'], inplace=True)"
   ]
  },
  {
   "cell_type": "code",
   "execution_count": 562,
   "metadata": {},
   "outputs": [],
   "source": [
    "# new_df['TIMESECS'] = new_df['TIME'].apply(lambda x: int(x.split(':')[0])*60 + float(x.split(':')[1]))\n",
    "# new_df['TIME64'] = new_df['TIME'].apply(lambda x: datetime.datetime.strptime(x, \"%M:%S.%f\"))"
   ]
  },
  {
   "cell_type": "code",
   "execution_count": 48,
   "metadata": {},
   "outputs": [],
   "source": [
    "# race_df.set_index(['NO','LAP'], inplace=True)\n",
    "# pit_stop_df.set_index(['NO','LAP'], inplace=True)\n",
    "# new_df = race_df.merge(pit_stop_df, on = ['NO','LAP'], how ='outer')\n"
   ]
  },
  {
   "cell_type": "code",
   "execution_count": 580,
   "metadata": {},
   "outputs": [
    {
     "ename": "KeyError",
     "evalue": "\"['STOP'] not in index\"",
     "output_type": "error",
     "traceback": [
      "\u001b[0;31m---------------------------------------------------------------------------\u001b[0m",
      "\u001b[0;31mKeyError\u001b[0m                                  Traceback (most recent call last)",
      "\u001b[0;32m<ipython-input-580-b1a056569523>\u001b[0m in \u001b[0;36m<module>\u001b[0;34m()\u001b[0m\n\u001b[0;32m----> 1\u001b[0;31m \u001b[0mrace_level_df\u001b[0m \u001b[0;34m=\u001b[0m \u001b[0mpit_stop_df\u001b[0m\u001b[0;34m[\u001b[0m\u001b[0;34m[\u001b[0m\u001b[0;34m'STOP'\u001b[0m\u001b[0;34m,\u001b[0m\u001b[0;34m'NO'\u001b[0m\u001b[0;34m]\u001b[0m\u001b[0;34m]\u001b[0m\u001b[0;34m[\u001b[0m\u001b[0mpit_stop_df\u001b[0m\u001b[0;34m[\u001b[0m\u001b[0;34m'NO'\u001b[0m\u001b[0;34m]\u001b[0m\u001b[0;34m.\u001b[0m\u001b[0misin\u001b[0m\u001b[0;34m(\u001b[0m\u001b[0mfinishers\u001b[0m\u001b[0;34m)\u001b[0m\u001b[0;34m]\u001b[0m\u001b[0;34m.\u001b[0m\u001b[0mgroupby\u001b[0m\u001b[0;34m(\u001b[0m\u001b[0;34m'NO'\u001b[0m\u001b[0;34m)\u001b[0m\u001b[0;34m.\u001b[0m\u001b[0mmax\u001b[0m\u001b[0;34m(\u001b[0m\u001b[0;34m)\u001b[0m\u001b[0;34m.\u001b[0m\u001b[0mreset_index\u001b[0m\u001b[0;34m(\u001b[0m\u001b[0;34m)\u001b[0m\u001b[0;34m\u001b[0m\u001b[0m\n\u001b[0m\u001b[1;32m      2\u001b[0m \u001b[0mrace_level_df\u001b[0m\u001b[0;34m[\u001b[0m\u001b[0;34m'race_id'\u001b[0m\u001b[0;34m]\u001b[0m \u001b[0;34m=\u001b[0m \u001b[0;36m0\u001b[0m\u001b[0;34m\u001b[0m\u001b[0m\n\u001b[1;32m      3\u001b[0m \u001b[0;31m#pit_stop_df[['STOP','NO']].groupby('NO').max()\u001b[0m\u001b[0;34m\u001b[0m\u001b[0;34m\u001b[0m\u001b[0m\n",
      "\u001b[0;32m~/anaconda/lib/python3.6/site-packages/pandas/core/frame.py\u001b[0m in \u001b[0;36m__getitem__\u001b[0;34m(self, key)\u001b[0m\n\u001b[1;32m   2677\u001b[0m         \u001b[0;32mif\u001b[0m \u001b[0misinstance\u001b[0m\u001b[0;34m(\u001b[0m\u001b[0mkey\u001b[0m\u001b[0;34m,\u001b[0m \u001b[0;34m(\u001b[0m\u001b[0mSeries\u001b[0m\u001b[0;34m,\u001b[0m \u001b[0mnp\u001b[0m\u001b[0;34m.\u001b[0m\u001b[0mndarray\u001b[0m\u001b[0;34m,\u001b[0m \u001b[0mIndex\u001b[0m\u001b[0;34m,\u001b[0m \u001b[0mlist\u001b[0m\u001b[0;34m)\u001b[0m\u001b[0;34m)\u001b[0m\u001b[0;34m:\u001b[0m\u001b[0;34m\u001b[0m\u001b[0m\n\u001b[1;32m   2678\u001b[0m             \u001b[0;31m# either boolean or fancy integer index\u001b[0m\u001b[0;34m\u001b[0m\u001b[0;34m\u001b[0m\u001b[0m\n\u001b[0;32m-> 2679\u001b[0;31m             \u001b[0;32mreturn\u001b[0m \u001b[0mself\u001b[0m\u001b[0;34m.\u001b[0m\u001b[0m_getitem_array\u001b[0m\u001b[0;34m(\u001b[0m\u001b[0mkey\u001b[0m\u001b[0;34m)\u001b[0m\u001b[0;34m\u001b[0m\u001b[0m\n\u001b[0m\u001b[1;32m   2680\u001b[0m         \u001b[0;32melif\u001b[0m \u001b[0misinstance\u001b[0m\u001b[0;34m(\u001b[0m\u001b[0mkey\u001b[0m\u001b[0;34m,\u001b[0m \u001b[0mDataFrame\u001b[0m\u001b[0;34m)\u001b[0m\u001b[0;34m:\u001b[0m\u001b[0;34m\u001b[0m\u001b[0m\n\u001b[1;32m   2681\u001b[0m             \u001b[0;32mreturn\u001b[0m \u001b[0mself\u001b[0m\u001b[0;34m.\u001b[0m\u001b[0m_getitem_frame\u001b[0m\u001b[0;34m(\u001b[0m\u001b[0mkey\u001b[0m\u001b[0;34m)\u001b[0m\u001b[0;34m\u001b[0m\u001b[0m\n",
      "\u001b[0;32m~/anaconda/lib/python3.6/site-packages/pandas/core/frame.py\u001b[0m in \u001b[0;36m_getitem_array\u001b[0;34m(self, key)\u001b[0m\n\u001b[1;32m   2721\u001b[0m             \u001b[0;32mreturn\u001b[0m \u001b[0mself\u001b[0m\u001b[0;34m.\u001b[0m\u001b[0m_take\u001b[0m\u001b[0;34m(\u001b[0m\u001b[0mindexer\u001b[0m\u001b[0;34m,\u001b[0m \u001b[0maxis\u001b[0m\u001b[0;34m=\u001b[0m\u001b[0;36m0\u001b[0m\u001b[0;34m)\u001b[0m\u001b[0;34m\u001b[0m\u001b[0m\n\u001b[1;32m   2722\u001b[0m         \u001b[0;32melse\u001b[0m\u001b[0;34m:\u001b[0m\u001b[0;34m\u001b[0m\u001b[0m\n\u001b[0;32m-> 2723\u001b[0;31m             \u001b[0mindexer\u001b[0m \u001b[0;34m=\u001b[0m \u001b[0mself\u001b[0m\u001b[0;34m.\u001b[0m\u001b[0mloc\u001b[0m\u001b[0;34m.\u001b[0m\u001b[0m_convert_to_indexer\u001b[0m\u001b[0;34m(\u001b[0m\u001b[0mkey\u001b[0m\u001b[0;34m,\u001b[0m \u001b[0maxis\u001b[0m\u001b[0;34m=\u001b[0m\u001b[0;36m1\u001b[0m\u001b[0;34m)\u001b[0m\u001b[0;34m\u001b[0m\u001b[0m\n\u001b[0m\u001b[1;32m   2724\u001b[0m             \u001b[0;32mreturn\u001b[0m \u001b[0mself\u001b[0m\u001b[0;34m.\u001b[0m\u001b[0m_take\u001b[0m\u001b[0;34m(\u001b[0m\u001b[0mindexer\u001b[0m\u001b[0;34m,\u001b[0m \u001b[0maxis\u001b[0m\u001b[0;34m=\u001b[0m\u001b[0;36m1\u001b[0m\u001b[0;34m)\u001b[0m\u001b[0;34m\u001b[0m\u001b[0m\n\u001b[1;32m   2725\u001b[0m \u001b[0;34m\u001b[0m\u001b[0m\n",
      "\u001b[0;32m~/anaconda/lib/python3.6/site-packages/pandas/core/indexing.py\u001b[0m in \u001b[0;36m_convert_to_indexer\u001b[0;34m(self, obj, axis, is_setter)\u001b[0m\n\u001b[1;32m   1325\u001b[0m                 \u001b[0;32mif\u001b[0m \u001b[0mmask\u001b[0m\u001b[0;34m.\u001b[0m\u001b[0many\u001b[0m\u001b[0;34m(\u001b[0m\u001b[0;34m)\u001b[0m\u001b[0;34m:\u001b[0m\u001b[0;34m\u001b[0m\u001b[0m\n\u001b[1;32m   1326\u001b[0m                     raise KeyError('{mask} not in index'\n\u001b[0;32m-> 1327\u001b[0;31m                                    .format(mask=objarr[mask]))\n\u001b[0m\u001b[1;32m   1328\u001b[0m \u001b[0;34m\u001b[0m\u001b[0m\n\u001b[1;32m   1329\u001b[0m                 \u001b[0;32mreturn\u001b[0m \u001b[0mcom\u001b[0m\u001b[0;34m.\u001b[0m\u001b[0m_values_from_object\u001b[0m\u001b[0;34m(\u001b[0m\u001b[0mindexer\u001b[0m\u001b[0;34m)\u001b[0m\u001b[0;34m\u001b[0m\u001b[0m\n",
      "\u001b[0;31mKeyError\u001b[0m: \"['STOP'] not in index\""
     ]
    }
   ],
   "source": [
    "race_level_df = pit_stop_df[['STOP','NO']][pit_stop_df['NO'].isin(finishers)].groupby('NO').max().reset_index()\n",
    "race_level_df['race_id'] = 0\n",
    "#pit_stop_df[['STOP','NO']].groupby('NO').max()"
   ]
  },
  {
   "cell_type": "code",
   "execution_count": null,
   "metadata": {},
   "outputs": [],
   "source": [
    "ref_df = pd.read_csv('which_race.csv', header=0)"
   ]
  },
  {
   "cell_type": "code",
   "execution_count": null,
   "metadata": {},
   "outputs": [],
   "source": [
    "race_level_df = race_level_df.merge(ref_df.reset_index(), on = ['race_id'], how ='inner')\n",
    "\n",
    "race_level_df = race_level_df.merge(ref_df, on = ['race_id'], how ='inner')"
   ]
  },
  {
   "cell_type": "code",
   "execution_count": 207,
   "metadata": {},
   "outputs": [],
   "source": [
    "pit_stop_0_df = pd.read_csv('race_frames/pit_stops_1_df.csv')"
   ]
  },
  {
   "cell_type": "code",
   "execution_count": 537,
   "metadata": {},
   "outputs": [],
   "source": [
    "# df_names = []\n",
    "# for _pdf in os.listdir('2016race0'):\n",
    "#     if (_pdf.lower().endswith(('.pdf'))) & ('jpg' not in _pdf.lower()):\n",
    "#         _name = _pdf[7:-9]+'_df'\n",
    "# #         print(_pdf)\n",
    "# #         print(_name)\n",
    "#         df_names.append(_name)\n",
    "#         exec( _name+\" = tabula.read_pdf('2016race0/'+_pdf,pages='all')\")\n",
    "# #        exec(_name+'[\"race_id\"] = 0')\n",
    "#         exec(_name+\".to_csv('2016race0/'+_name+'.csv')\")\n",
    "\n",
    "# df_names = []\n",
    "# for _csv in os.listdir('2016race0'):\n",
    "#     if _csv.lower().endswith(('.csv')):\n",
    "#         _name = _csv[:-4]\n",
    "# #         print(_csv)\n",
    "# #         print(_name)\n",
    "#         df_names.append(_name)\n",
    "#         exec(_name+\" = pd.read_csv('2016race0/'+_name+'.csv')\")\n",
    "# #        exec(_name+\"['race_id'] = 0\")"
   ]
  },
  {
   "cell_type": "code",
   "execution_count": 560,
   "metadata": {},
   "outputs": [],
   "source": [
    "starters_2016 = np.array([\"5\",\"7\",\"11\",\"27\",\"8\",\"21\",\"14\",\"47\",\"22\",\"6\",\"44\",\"88\",\"31\",\"94\",\"3\",\"26\",\"33\",\"20\",\"30\",\"9\",\"12\",\"33\",\"26\",\"55\",\"19\",\"77\"])"
   ]
  },
  {
   "cell_type": "code",
   "execution_count": 579,
   "metadata": {},
   "outputs": [],
   "source": [
    "starters_2017 = [\"5\",\"7\",\"11\",\"31\",\"8\",\"20\",\"2\",\"14\",\"22\",\"44\",\"77\",\"3\",\"33\",\"27\",\"30\",\"55\",\"9\",\"36\",\"94\",\"26\",\"10\",\"28\",\"39\",\"55\",\"26\",\"10\",\"18\",\"19\",\"40\"]"
   ]
  }
 ],
 "metadata": {
  "kernelspec": {
   "display_name": "Python 3",
   "language": "python",
   "name": "python3"
  },
  "language_info": {
   "codemirror_mode": {
    "name": "ipython",
    "version": 3
   },
   "file_extension": ".py",
   "mimetype": "text/x-python",
   "name": "python",
   "nbconvert_exporter": "python",
   "pygments_lexer": "ipython3",
   "version": "3.6.6"
  }
 },
 "nbformat": 4,
 "nbformat_minor": 2
}
