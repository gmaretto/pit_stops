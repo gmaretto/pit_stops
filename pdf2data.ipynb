{
 "cells": [
  {
   "cell_type": "code",
   "execution_count": 10,
   "metadata": {},
   "outputs": [],
   "source": [
    "import tabula\n",
    "import pandas as pd\n",
    "import os"
   ]
  },
  {
   "cell_type": "code",
   "execution_count": 3,
   "metadata": {},
   "outputs": [],
   "source": [
    "filenames = ['best_sector_times_64.pdf','official_starting_grid_41.pdf',\n",
    "'fastest_laps_24.pdf',\n",
    "'history_chart_25.pdf','pit_stop_summary_29.pdf',\n",
    "'lap_analysis_25.pdf','provisional_starting_grid_37.pdf',\n",
    "'lap_chart_31.pdf','speed_trap_45.pdf',\n",
    "'maximum_speeds_62.pdf']"
   ]
  },
  {
   "cell_type": "code",
   "execution_count": 8,
   "metadata": {},
   "outputs": [],
   "source": [
    "for pidieffe in filenames:\n",
    "    #print(pidieffe)\n",
    "    frame_name = pidieffe[:-4]+'_df'\n",
    "    #print(frame_name)\n",
    "    exec( frame_name+\" = tabula.read_pdf(pidieffe)\")\n",
    "    #exec(frame_name+\".head()\")"
   ]
  },
  {
   "cell_type": "code",
   "execution_count": 154,
   "metadata": {},
   "outputs": [],
   "source": [
    "dfs = []\n",
    "for _pdf in os.listdir('2016race0'):\n",
    "    if (_pdf.lower().endswith(('.pdf'))) & ('jpg' not in _pdf.lower()):\n",
    "        _name = _pdf[7:-9]+'_df'\n",
    "        print(_pdf)\n",
    "        print(_name)\n",
    "        dfs.append(_name)\n",
    "        exec( _name+\" = tabula.read_pdf('2016race0/'+_pdf,pages='all')\")\n",
    "        exec(_name+\".to_csv('2016race0/'+_name+'.csv')\")"
   ]
  },
  {
   "cell_type": "code",
   "execution_count": 104,
   "metadata": {},
   "outputs": [],
   "source": [
    "stopperz = df.loc[df['NO.0']=='NO'].index"
   ]
  },
  {
   "cell_type": "code",
   "execution_count": 139,
   "metadata": {},
   "outputs": [],
   "source": [
    "df.rename(columns = {'NO':'NO.0','GAP':'GAP.0','TIME':'TIME.0'},inplace=True)"
   ]
  },
  {
   "cell_type": "code",
   "execution_count": 144,
   "metadata": {},
   "outputs": [],
   "source": [
    "last_stopper = 0\n",
    "for _id,_val in enumerate(stopperz):\n",
    "    #print (_id,_val)\n",
    "    exec('df_'+str(_id)+'= df.loc[last_stopper+1:_val-1]' )\n",
    "    last_stopper = _val"
   ]
  },
  {
   "cell_type": "code",
   "execution_count": 185,
   "metadata": {},
   "outputs": [],
   "source": [
    "laps_dfs=[]\n",
    "for j in range(len(stopperz)):\n",
    "    for i in [0,1,2,3,4]:\n",
    "        exec('laps_dfs.append(df_lap_'+str(j*5+(i+1))+')')\n",
    "        exec('df_lap_'+str(j*5+(i+1))+' = df_'+str(j)+'[[\"NO.'+str(i)+'\",\"GAP.'+str(i)+'\",\"TIME.'+str(i)+'\"]]')\n",
    "        exec('df_lap_'+str(j*5+(i+1))+'[\"lap\"] = '+str(j*5+(i+1)))\n",
    "        exec('df_lap_'+str(j*5+(i+1))+'.columns = [\"NO\",\"GAP\",\"TIME\",\"LAP\"]')"
   ]
  },
  {
   "cell_type": "code",
   "execution_count": 236,
   "metadata": {},
   "outputs": [],
   "source": [
    "race_df = pd.concat(laps_dfs,ignore_index=True)"
   ]
  },
  {
   "cell_type": "code",
   "execution_count": 241,
   "metadata": {},
   "outputs": [],
   "source": [
    "#race_df.to_csv('race.csv')"
   ]
  },
  {
   "cell_type": "code",
   "execution_count": 202,
   "metadata": {},
   "outputs": [],
   "source": [
    "race_df.set_index(['NO','LAP'], inplace=True)\n",
    "pit_stop_summary_6_df.set_index(['NO','LAP'], inplace=True)"
   ]
  },
  {
   "cell_type": "code",
   "execution_count": 242,
   "metadata": {},
   "outputs": [],
   "source": [
    "new_df = race_df.join(pit_stop_summary_6_df)"
   ]
  }
 ],
 "metadata": {
  "kernelspec": {
   "display_name": "Python 3",
   "language": "python",
   "name": "python3"
  },
  "language_info": {
   "codemirror_mode": {
    "name": "ipython",
    "version": 3
   },
   "file_extension": ".py",
   "mimetype": "text/x-python",
   "name": "python",
   "nbconvert_exporter": "python",
   "pygments_lexer": "ipython3",
   "version": "3.6.5"
  }
 },
 "nbformat": 4,
 "nbformat_minor": 2
}
