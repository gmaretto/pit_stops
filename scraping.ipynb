{
 "cells": [
  {
   "cell_type": "code",
   "execution_count": 150,
   "metadata": {},
   "outputs": [],
   "source": [
    "# Import a library to fetch web content using HTTP requests.\n",
    "import requests\n",
    "\n",
    "# Import a library to parse the HTML content of web pages.\n",
    "from bs4 import BeautifulSoup\n",
    "\n",
    "import pandas as pd\n",
    "import re\n",
    "import tabula\n"
   ]
  },
  {
   "cell_type": "code",
   "execution_count": 151,
   "metadata": {},
   "outputs": [
    {
     "name": "stdout",
     "output_type": "stream",
     "text": [
      "https://www.fia.com/events/fia-formula-one-world-championship/season-2015/2015-fia-formula-one-world-championship\n",
      "https://www.fia.com/events/fia-formula-one-world-championship/season-2016/2016-fia-formula-one-world-championship\n",
      "https://www.fia.com/events/fia-formula-one-world-championship/season-2017/2017-fia-formula-one-world-championship\n",
      "https://www.fia.com/events/fia-formula-one-world-championship/season-2018/2018-fia-formula-one-world-championship\n"
     ]
    }
   ],
   "source": [
    "# what about 2014  data?!?\n",
    "first_season = 2015\n",
    "last_season = 2018\n",
    "for season in range(first_season,last_season+1):\n",
    "    do_season(season)"
   ]
  },
  {
   "cell_type": "code",
   "execution_count": 152,
   "metadata": {},
   "outputs": [],
   "source": [
    "def do_season(year):\n",
    "    season_url = \"https://www.fia.com/events/fia-formula-one-world-championship/season-\"+str(year)+\"/\"+str(year)+\"-fia-formula-one-world-championship\"\n",
    "    season_content = requests.get(season_url).content\n",
    "    season_soup = BeautifulSoup(season_content, \"html.parser\")\n",
    "    rows = season_soup.find_all('div', class_='event cell')\n",
    "    season_url_lst = []\n",
    "    for row in rows:\n",
    "        #cell_lst = [cell.text for cell in row]\n",
    "        #table_lst.append(cell_lst)\n",
    "        season_url_lst.append(\"https://www.fia.com\"+row.a['href'])\n",
    "        for race_url in season_url_lst:\n",
    "            do_race(url)"
   ]
  },
  {
   "cell_type": "code",
   "execution_count": 167,
   "metadata": {},
   "outputs": [],
   "source": [
    "# headers = {'User-Agent': 'Mozilla/5.0 (Linux; Android 5.1.1; SM-G928X Build/LMY47X) AppleWebKit/537.36 (KHTML, like Gecko) Chrome/47.0.2526.83 Mobile Safari/537.36'}\n",
    "\n",
    "def do_race(url):\n",
    "    content = requests.get(url).content\n",
    "#     content = requests.get(url,headers=headers).content\n",
    "    soup = BeautifulSoup(content, \"html.parser\")\n",
    "    race_url = soup.find('div', class_='mosaic-widget-item mosaic-square static-content').a['href']\n",
    "    race_content = requests.get(race_url).content\n",
    "#     race_soup = BeautifulSoup(race_content, \"html.parser\")\n",
    "#     race_soup = BeautifulSoup(race_content, \"html5lib\")\n",
    "#     race_soup = BeautifulSoup(race_content, \"lxml\")\n",
    "#     return race_soup\n",
    "    return race_content"
   ]
  },
  {
   "cell_type": "code",
   "execution_count": null,
   "metadata": {},
   "outputs": [],
   "source": [
    "# headers = {'User-Agent': 'Mozilla/5.0 (Linux; Android 5.1.1; SM-G928X Build/LMY47X) AppleWebKit/537.36 (KHTML, like Gecko) Chrome/47.0.2526.83 Mobile Safari/537.36'}\n",
    "# result = requests.get(\"http://derstandard.at\", headers=headers)\n",
    "# c = result.content\n",
    "# print result.request.headers\n"
   ]
  },
  {
   "cell_type": "code",
   "execution_count": 154,
   "metadata": {},
   "outputs": [],
   "source": [
    "def get_filename_from_cd(cd):\n",
    "    \"\"\"\n",
    "    Get filename from content-disposition\n",
    "    \"\"\"\n",
    "    if not cd:\n",
    "        return None\n",
    "    fname = re.findall('filename=(.+)', cd)\n",
    "    if len(fname) == 0:\n",
    "        return None\n",
    "    return fname[0]"
   ]
  },
  {
   "cell_type": "code",
   "execution_count": 155,
   "metadata": {},
   "outputs": [],
   "source": [
    "def url2pdf(url):\n",
    "    r = requests.get(url, allow_redirects=True)\n",
    "    filename = get_filename_from_cd(r.headers.get('content-disposition'))[1:-1]\n",
    "    open(filename, 'wb').write(r.content)"
   ]
  },
  {
   "cell_type": "code",
   "execution_count": null,
   "metadata": {},
   "outputs": [],
   "source": [
    "# url = \"https://www.fia.com/file/41701/download?token=Z8gsCn26\"\n",
    "# r.headers.get('content-type') == 'application/pdf'\n",
    "# r.headers.get('content-disposition')"
   ]
  },
  {
   "cell_type": "code",
   "execution_count": 169,
   "metadata": {},
   "outputs": [],
   "source": [
    "url = \"https://www.fia.com/championship/events/fia-formula-one-world-championship/season-2017/australian-grand-prix\"\n",
    "race_content = do_race(url)"
   ]
  },
  {
   "cell_type": "code",
   "execution_count": 171,
   "metadata": {},
   "outputs": [],
   "source": [
    "race_soup = BeautifulSoup(race_content, \"lxml\")"
   ]
  },
  {
   "cell_type": "code",
   "execution_count": 170,
   "metadata": {},
   "outputs": [
    {
     "data": {
      "text/plain": [
       "72192"
      ]
     },
     "execution_count": 170,
     "metadata": {},
     "output_type": "execute_result"
    }
   ],
   "source": [
    "open('test.html','wb').write(race_content)"
   ]
  },
  {
   "cell_type": "code",
   "execution_count": 173,
   "metadata": {},
   "outputs": [
    {
     "data": {
      "text/plain": [
       "bs4.BeautifulSoup"
      ]
     },
     "execution_count": 173,
     "metadata": {},
     "output_type": "execute_result"
    }
   ],
   "source": [
    "type(race_soup)"
   ]
  },
  {
   "cell_type": "code",
   "execution_count": 174,
   "metadata": {},
   "outputs": [],
   "source": [
    "tables_url=["
   ]
  },
  {
   "cell_type": "code",
   "execution_count": 185,
   "metadata": {},
   "outputs": [],
   "source": [
    "tables_url = soup.find_all('div', class_='middle')"
   ]
  },
  {
   "cell_type": "code",
   "execution_count": null,
   "metadata": {},
   "outputs": [],
   "source": [
    "https://www.fia.com/file"
   ]
  },
  {
   "cell_type": "code",
   "execution_count": 222,
   "metadata": {},
   "outputs": [],
   "source": [
    "#    fname = re.findall('filename=(.+)', cd)\n",
    "table_urls=[]\n",
    "for row in race_soup.find_all('a', target='_blank'):\n",
    "    fname = re.findall('/file/(.+)', row.get('href'))\n",
    "    if fname:\n",
    "        table_urls.append('https://www.fia.com/file/'+fname[0])"
   ]
  },
  {
   "cell_type": "code",
   "execution_count": 223,
   "metadata": {},
   "outputs": [
    {
     "data": {
      "text/plain": [
       "['https://www.fia.com/file/54227/download?token=U10Qbf21',\n",
       " 'https://www.fia.com/file/54410/download?token=gU_qLleF',\n",
       " 'https://www.fia.com/file/54438/download?token=5cTOA5Tl',\n",
       " 'https://www.fia.com/file/54402/download?token=Pifm8U_m',\n",
       " 'https://www.fia.com/file/54599/download?token=MvLFw9Sm',\n",
       " 'https://www.fia.com/file/54574/download?token=isJ01q8g',\n",
       " 'https://www.fia.com/file/54575/download?token=D5bAEk5v',\n",
       " 'https://www.fia.com/file/54573/download?token=WDKJ-DDj',\n",
       " 'https://www.fia.com/file/54572/download?token=5eizWu_d',\n",
       " 'https://www.fia.com/file/54571/download?token=4CNulecb',\n",
       " 'https://www.fia.com/file/54570/download?token=a5tIZ8Io',\n",
       " 'https://www.fia.com/file/54569/download?token=jnf1Kn27',\n",
       " 'https://www.fia.com/file/54568/download?token=GDMZkvfa',\n",
       " 'https://www.fia.com/file/54567/download?token=bqk9FH3H',\n",
       " 'https://www.fia.com/file/54566/download?token=aNHeGWw5',\n",
       " 'https://www.fia.com/file/54544/download?token=hUBohN7Z',\n",
       " 'https://www.fia.com/file/54543/download?token=ZWdRctcf',\n",
       " 'https://www.fia.com/file/54534/download?token=RptpsSXP',\n",
       " 'https://www.fia.com/file/54533/download?token=rFGwNwWG',\n",
       " 'https://www.fia.com/file/54532/download?token=Fta3oaWB',\n",
       " 'https://www.fia.com/file/54531/download?token=PPrtPc2p',\n",
       " 'https://www.fia.com/file/54530/download?token=ztjnz73l',\n",
       " 'https://www.fia.com/file/54522/download?token=a_h4JZFS',\n",
       " 'https://www.fia.com/file/54523/download?token=lpMCR4HE',\n",
       " 'https://www.fia.com/file/54476/download?token=Qe-suw-B',\n",
       " 'https://www.fia.com/file/54478/download?token=ItUnPx3u',\n",
       " 'https://www.fia.com/file/54470/download?token=ynPX9XP8',\n",
       " 'https://www.fia.com/file/54472/download?token=WLO7FRXA',\n",
       " 'https://www.fia.com/file/54600/download?token=6xJqdydF',\n",
       " 'https://www.fia.com/file/54565/download?token=wrmbYT8D',\n",
       " 'https://www.fia.com/file/54564/download?token=8nMNu1tB',\n",
       " 'https://www.fia.com/file/54563/download?token=cvskVcOx',\n",
       " 'https://www.fia.com/file/54562/download?token=U-H57gIY',\n",
       " 'https://www.fia.com/file/54542/download?token=nnz7yKEt',\n",
       " 'https://www.fia.com/file/54541/download?token=YqlU3bLD',\n",
       " 'https://www.fia.com/file/54538/download?token=4jCzetDY',\n",
       " 'https://www.fia.com/file/54527/download?token=N-49UZqM',\n",
       " 'https://www.fia.com/file/54488/download?token=9IypRwxP',\n",
       " 'https://www.fia.com/file/54436/download?token=NUoPLHBl',\n",
       " 'https://www.fia.com/file/54411/download?token=Gt7DUa7p',\n",
       " 'https://www.fia.com/file/54576/download?token=NTKeM1ED',\n",
       " 'https://www.fia.com/file/54561/download?token=BRMK_oIq',\n",
       " 'https://www.fia.com/file/54560/download?token=U4mr9R9v',\n",
       " 'https://www.fia.com/file/54559/download?token=VwzQo5IW',\n",
       " 'https://www.fia.com/file/54558/download?token=u6V7Sfck',\n",
       " 'https://www.fia.com/file/54537/download?token=QQuM-GW5',\n",
       " 'https://www.fia.com/file/54536/download?token=PHIr7lAm',\n",
       " 'https://www.fia.com/file/54529/download?token=Sp1OaKAU',\n",
       " 'https://www.fia.com/file/54528/download?token=oKE83h1D',\n",
       " 'https://www.fia.com/file/54526/download?token=sYsMobb9',\n",
       " 'https://www.fia.com/file/54521/download?token=DoKJvLeu',\n",
       " 'https://www.fia.com/file/54477/download?token=-P6Osvd2',\n",
       " 'https://www.fia.com/file/54473/download?token=e6ln8UKo',\n",
       " 'https://www.fia.com/file/54525/download?token=RySHSFhv',\n",
       " 'https://www.fia.com/file/54489/download?token=U8_9-ipO',\n",
       " 'https://www.fia.com/file/54481/download?token=_xFMgxrY',\n",
       " 'https://www.fia.com/file/54437/download?token=YG8uvcGn',\n",
       " 'https://www.fia.com/file/54416/download?token=4KWbKrp6',\n",
       " 'https://www.fia.com/file/54388/download?token=ih93XSXN',\n",
       " 'https://www.fia.com/file/54446/download?token=avaBVjI8',\n",
       " 'https://www.fia.com/file/54508/download?token=u23tJCN4',\n",
       " 'https://www.fia.com/file/54540/download?token=zMMhSUSm',\n",
       " 'https://www.fia.com/file/54602/download?token=j8GE9-Uz',\n",
       " 'https://www.fia.com/file/54387/download?token=r9mGwb_6',\n",
       " 'https://www.fia.com/file/54577/download?token=2nBjS6SN',\n",
       " 'https://www.fia.com/file/54578/download?token=gUZylC3S']"
      ]
     },
     "execution_count": 223,
     "metadata": {},
     "output_type": "execute_result"
    }
   ],
   "source": [
    "table_urls"
   ]
  },
  {
   "cell_type": "code",
   "execution_count": null,
   "metadata": {},
   "outputs": [],
   "source": []
  }
 ],
 "metadata": {
  "kernelspec": {
   "display_name": "Python 3",
   "language": "python",
   "name": "python3"
  },
  "language_info": {
   "codemirror_mode": {
    "name": "ipython",
    "version": 3
   },
   "file_extension": ".py",
   "mimetype": "text/x-python",
   "name": "python",
   "nbconvert_exporter": "python",
   "pygments_lexer": "ipython3",
   "version": "3.6.5"
  }
 },
 "nbformat": 4,
 "nbformat_minor": 2
}
